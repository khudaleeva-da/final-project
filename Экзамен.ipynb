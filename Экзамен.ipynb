{
 "cells": [
  {
   "cell_type": "markdown",
   "metadata": {},
   "source": [
    "## Знакомство с датасетом"
   ]
  },
  {
   "cell_type": "markdown",
   "metadata": {},
   "source": [
    "Начинаем работу с загрузки Pandas"
   ]
  },
  {
   "cell_type": "code",
   "execution_count": 1,
   "metadata": {},
   "outputs": [],
   "source": [
    "import pandas as pd\n",
    "import numpy as np"
   ]
  },
  {
   "cell_type": "markdown",
   "metadata": {},
   "source": [
    "Загружаем датасет и рассмотрим какие данные в нем есть"
   ]
  },
  {
   "cell_type": "code",
   "execution_count": 2,
   "metadata": {
    "scrolled": true
   },
   "outputs": [
    {
     "data": {
      "text/html": [
       "<div>\n",
       "<style scoped>\n",
       "    .dataframe tbody tr th:only-of-type {\n",
       "        vertical-align: middle;\n",
       "    }\n",
       "\n",
       "    .dataframe tbody tr th {\n",
       "        vertical-align: top;\n",
       "    }\n",
       "\n",
       "    .dataframe thead th {\n",
       "        text-align: right;\n",
       "    }\n",
       "</style>\n",
       "<table border=\"1\" class=\"dataframe\">\n",
       "  <thead>\n",
       "    <tr style=\"text-align: right;\">\n",
       "      <th></th>\n",
       "      <th>status</th>\n",
       "      <th>private pool</th>\n",
       "      <th>propertyType</th>\n",
       "      <th>street</th>\n",
       "      <th>baths</th>\n",
       "      <th>homeFacts</th>\n",
       "      <th>fireplace</th>\n",
       "      <th>city</th>\n",
       "      <th>schools</th>\n",
       "      <th>sqft</th>\n",
       "      <th>zipcode</th>\n",
       "      <th>beds</th>\n",
       "      <th>state</th>\n",
       "      <th>stories</th>\n",
       "      <th>mls-id</th>\n",
       "      <th>PrivatePool</th>\n",
       "      <th>MlsId</th>\n",
       "      <th>target</th>\n",
       "    </tr>\n",
       "  </thead>\n",
       "  <tbody>\n",
       "    <tr>\n",
       "      <td>0</td>\n",
       "      <td>Active</td>\n",
       "      <td>NaN</td>\n",
       "      <td>Single Family Home</td>\n",
       "      <td>240 Heather Ln</td>\n",
       "      <td>3.5</td>\n",
       "      <td>{'atAGlanceFacts': [{'factValue': '2019', 'fac...</td>\n",
       "      <td>Gas Logs</td>\n",
       "      <td>Southern Pines</td>\n",
       "      <td>[{'rating': ['4', '4', '7', 'NR', '4', '7', 'N...</td>\n",
       "      <td>2900</td>\n",
       "      <td>28387</td>\n",
       "      <td>4</td>\n",
       "      <td>NC</td>\n",
       "      <td>NaN</td>\n",
       "      <td>NaN</td>\n",
       "      <td>NaN</td>\n",
       "      <td>611019</td>\n",
       "      <td>$418,000</td>\n",
       "    </tr>\n",
       "    <tr>\n",
       "      <td>1</td>\n",
       "      <td>for sale</td>\n",
       "      <td>NaN</td>\n",
       "      <td>single-family home</td>\n",
       "      <td>12911 E Heroy Ave</td>\n",
       "      <td>3 Baths</td>\n",
       "      <td>{'atAGlanceFacts': [{'factValue': '2019', 'fac...</td>\n",
       "      <td>NaN</td>\n",
       "      <td>Spokane Valley</td>\n",
       "      <td>[{'rating': ['4/10', 'None/10', '4/10'], 'data...</td>\n",
       "      <td>1,947 sqft</td>\n",
       "      <td>99216</td>\n",
       "      <td>3 Beds</td>\n",
       "      <td>WA</td>\n",
       "      <td>2.0</td>\n",
       "      <td>NaN</td>\n",
       "      <td>NaN</td>\n",
       "      <td>201916904</td>\n",
       "      <td>$310,000</td>\n",
       "    </tr>\n",
       "    <tr>\n",
       "      <td>2</td>\n",
       "      <td>for sale</td>\n",
       "      <td>NaN</td>\n",
       "      <td>single-family home</td>\n",
       "      <td>2005 Westridge Rd</td>\n",
       "      <td>2 Baths</td>\n",
       "      <td>{'atAGlanceFacts': [{'factValue': '1961', 'fac...</td>\n",
       "      <td>yes</td>\n",
       "      <td>Los Angeles</td>\n",
       "      <td>[{'rating': ['8/10', '4/10', '8/10'], 'data': ...</td>\n",
       "      <td>3,000 sqft</td>\n",
       "      <td>90049</td>\n",
       "      <td>3 Beds</td>\n",
       "      <td>CA</td>\n",
       "      <td>1.0</td>\n",
       "      <td>NaN</td>\n",
       "      <td>yes</td>\n",
       "      <td>FR19221027</td>\n",
       "      <td>$2,895,000</td>\n",
       "    </tr>\n",
       "    <tr>\n",
       "      <td>3</td>\n",
       "      <td>for sale</td>\n",
       "      <td>NaN</td>\n",
       "      <td>single-family home</td>\n",
       "      <td>4311 Livingston Ave</td>\n",
       "      <td>8 Baths</td>\n",
       "      <td>{'atAGlanceFacts': [{'factValue': '2006', 'fac...</td>\n",
       "      <td>yes</td>\n",
       "      <td>Dallas</td>\n",
       "      <td>[{'rating': ['9/10', '9/10', '10/10', '9/10'],...</td>\n",
       "      <td>6,457 sqft</td>\n",
       "      <td>75205</td>\n",
       "      <td>5 Beds</td>\n",
       "      <td>TX</td>\n",
       "      <td>3.0</td>\n",
       "      <td>NaN</td>\n",
       "      <td>NaN</td>\n",
       "      <td>14191809</td>\n",
       "      <td>$2,395,000</td>\n",
       "    </tr>\n",
       "    <tr>\n",
       "      <td>4</td>\n",
       "      <td>for sale</td>\n",
       "      <td>NaN</td>\n",
       "      <td>lot/land</td>\n",
       "      <td>1524 Kiscoe St</td>\n",
       "      <td>NaN</td>\n",
       "      <td>{'atAGlanceFacts': [{'factValue': '', 'factLab...</td>\n",
       "      <td>NaN</td>\n",
       "      <td>Palm Bay</td>\n",
       "      <td>[{'rating': ['4/10', '5/10', '5/10'], 'data': ...</td>\n",
       "      <td>NaN</td>\n",
       "      <td>32908</td>\n",
       "      <td>NaN</td>\n",
       "      <td>FL</td>\n",
       "      <td>NaN</td>\n",
       "      <td>NaN</td>\n",
       "      <td>NaN</td>\n",
       "      <td>861745</td>\n",
       "      <td>$5,000</td>\n",
       "    </tr>\n",
       "    <tr>\n",
       "      <td>5</td>\n",
       "      <td>for sale</td>\n",
       "      <td>NaN</td>\n",
       "      <td>townhouse</td>\n",
       "      <td>1624 S Newkirk St</td>\n",
       "      <td>NaN</td>\n",
       "      <td>{'atAGlanceFacts': [{'factValue': '1920', 'fac...</td>\n",
       "      <td>NaN</td>\n",
       "      <td>Philadelphia</td>\n",
       "      <td>[{'rating': [], 'data': {'Distance': [], 'Grad...</td>\n",
       "      <td>897 sqft</td>\n",
       "      <td>19145</td>\n",
       "      <td>2 Beds</td>\n",
       "      <td>PA</td>\n",
       "      <td>2.0</td>\n",
       "      <td>NaN</td>\n",
       "      <td>NaN</td>\n",
       "      <td>PAPH847006</td>\n",
       "      <td>$209,000</td>\n",
       "    </tr>\n",
       "    <tr>\n",
       "      <td>6</td>\n",
       "      <td>Active</td>\n",
       "      <td>NaN</td>\n",
       "      <td>Florida</td>\n",
       "      <td>552 Casanova Ct</td>\n",
       "      <td>NaN</td>\n",
       "      <td>{'atAGlanceFacts': [{'factValue': '2006', 'fac...</td>\n",
       "      <td>NaN</td>\n",
       "      <td>POINCIANA</td>\n",
       "      <td>[{'rating': ['3', '3', '1', 'NR'], 'data': {'D...</td>\n",
       "      <td>1,507</td>\n",
       "      <td>34759</td>\n",
       "      <td>NaN</td>\n",
       "      <td>FL</td>\n",
       "      <td>One</td>\n",
       "      <td>NaN</td>\n",
       "      <td>NaN</td>\n",
       "      <td>S5026943</td>\n",
       "      <td>181,500</td>\n",
       "    </tr>\n",
       "    <tr>\n",
       "      <td>7</td>\n",
       "      <td>Active</td>\n",
       "      <td>NaN</td>\n",
       "      <td>NaN</td>\n",
       "      <td>6094 Mingle Dr</td>\n",
       "      <td>NaN</td>\n",
       "      <td>{'atAGlanceFacts': [{'factValue': '1976', 'fac...</td>\n",
       "      <td>NaN</td>\n",
       "      <td>Memphis</td>\n",
       "      <td>[{'rating': ['4', '2', '2'], 'data': {'Distanc...</td>\n",
       "      <td>NaN</td>\n",
       "      <td>38115</td>\n",
       "      <td>NaN</td>\n",
       "      <td>TN</td>\n",
       "      <td>NaN</td>\n",
       "      <td>NaN</td>\n",
       "      <td>NaN</td>\n",
       "      <td>10063506</td>\n",
       "      <td>68,000</td>\n",
       "    </tr>\n",
       "    <tr>\n",
       "      <td>8</td>\n",
       "      <td>Active</td>\n",
       "      <td>NaN</td>\n",
       "      <td>Single Family Home</td>\n",
       "      <td>11182 Owl Ave</td>\n",
       "      <td>2</td>\n",
       "      <td>{'atAGlanceFacts': [{'factValue': '1970', 'fac...</td>\n",
       "      <td>NaN</td>\n",
       "      <td>Mason City</td>\n",
       "      <td>[{'rating': ['2', '2', '4', '7', '4', 'NR'], '...</td>\n",
       "      <td>3588</td>\n",
       "      <td>50401</td>\n",
       "      <td>3</td>\n",
       "      <td>IA</td>\n",
       "      <td>NaN</td>\n",
       "      <td>NaN</td>\n",
       "      <td>NaN</td>\n",
       "      <td>190988</td>\n",
       "      <td>$244,900</td>\n",
       "    </tr>\n",
       "    <tr>\n",
       "      <td>9</td>\n",
       "      <td>NaN</td>\n",
       "      <td>NaN</td>\n",
       "      <td>Single Family</td>\n",
       "      <td>8612 Cedar Plains Ln</td>\n",
       "      <td>3</td>\n",
       "      <td>{'atAGlanceFacts': [{'factValue': '2019', 'fac...</td>\n",
       "      <td>NaN</td>\n",
       "      <td>Houston</td>\n",
       "      <td>[{'rating': ['4/10', '3/10', '2/10'], 'data': ...</td>\n",
       "      <td>1,930</td>\n",
       "      <td>77080</td>\n",
       "      <td>3</td>\n",
       "      <td>TX</td>\n",
       "      <td>2.0</td>\n",
       "      <td>NaN</td>\n",
       "      <td>NaN</td>\n",
       "      <td>73968331</td>\n",
       "      <td>$311,995</td>\n",
       "    </tr>\n",
       "  </tbody>\n",
       "</table>\n",
       "</div>"
      ],
      "text/plain": [
       "     status private pool        propertyType                street    baths  \\\n",
       "0    Active          NaN  Single Family Home        240 Heather Ln      3.5   \n",
       "1  for sale          NaN  single-family home     12911 E Heroy Ave  3 Baths   \n",
       "2  for sale          NaN  single-family home     2005 Westridge Rd  2 Baths   \n",
       "3  for sale          NaN  single-family home   4311 Livingston Ave  8 Baths   \n",
       "4  for sale          NaN            lot/land        1524 Kiscoe St      NaN   \n",
       "5  for sale          NaN           townhouse     1624 S Newkirk St      NaN   \n",
       "6    Active          NaN             Florida      552 Casanova Ct       NaN   \n",
       "7    Active          NaN                 NaN       6094 Mingle Dr       NaN   \n",
       "8    Active          NaN  Single Family Home         11182 Owl Ave        2   \n",
       "9       NaN          NaN       Single Family  8612 Cedar Plains Ln        3   \n",
       "\n",
       "                                           homeFacts fireplace  \\\n",
       "0  {'atAGlanceFacts': [{'factValue': '2019', 'fac...  Gas Logs   \n",
       "1  {'atAGlanceFacts': [{'factValue': '2019', 'fac...       NaN   \n",
       "2  {'atAGlanceFacts': [{'factValue': '1961', 'fac...       yes   \n",
       "3  {'atAGlanceFacts': [{'factValue': '2006', 'fac...       yes   \n",
       "4  {'atAGlanceFacts': [{'factValue': '', 'factLab...       NaN   \n",
       "5  {'atAGlanceFacts': [{'factValue': '1920', 'fac...       NaN   \n",
       "6  {'atAGlanceFacts': [{'factValue': '2006', 'fac...       NaN   \n",
       "7  {'atAGlanceFacts': [{'factValue': '1976', 'fac...       NaN   \n",
       "8  {'atAGlanceFacts': [{'factValue': '1970', 'fac...       NaN   \n",
       "9  {'atAGlanceFacts': [{'factValue': '2019', 'fac...       NaN   \n",
       "\n",
       "             city                                            schools  \\\n",
       "0  Southern Pines  [{'rating': ['4', '4', '7', 'NR', '4', '7', 'N...   \n",
       "1  Spokane Valley  [{'rating': ['4/10', 'None/10', '4/10'], 'data...   \n",
       "2     Los Angeles  [{'rating': ['8/10', '4/10', '8/10'], 'data': ...   \n",
       "3          Dallas  [{'rating': ['9/10', '9/10', '10/10', '9/10'],...   \n",
       "4        Palm Bay  [{'rating': ['4/10', '5/10', '5/10'], 'data': ...   \n",
       "5    Philadelphia  [{'rating': [], 'data': {'Distance': [], 'Grad...   \n",
       "6       POINCIANA  [{'rating': ['3', '3', '1', 'NR'], 'data': {'D...   \n",
       "7         Memphis  [{'rating': ['4', '2', '2'], 'data': {'Distanc...   \n",
       "8      Mason City  [{'rating': ['2', '2', '4', '7', '4', 'NR'], '...   \n",
       "9         Houston  [{'rating': ['4/10', '3/10', '2/10'], 'data': ...   \n",
       "\n",
       "         sqft zipcode    beds state stories mls-id PrivatePool       MlsId  \\\n",
       "0        2900   28387       4    NC     NaN    NaN         NaN      611019   \n",
       "1  1,947 sqft   99216  3 Beds    WA     2.0    NaN         NaN   201916904   \n",
       "2  3,000 sqft   90049  3 Beds    CA     1.0    NaN         yes  FR19221027   \n",
       "3  6,457 sqft   75205  5 Beds    TX     3.0    NaN         NaN    14191809   \n",
       "4         NaN   32908     NaN    FL     NaN    NaN         NaN      861745   \n",
       "5    897 sqft   19145  2 Beds    PA     2.0    NaN         NaN  PAPH847006   \n",
       "6       1,507   34759     NaN    FL     One    NaN         NaN    S5026943   \n",
       "7         NaN   38115     NaN    TN     NaN    NaN         NaN    10063506   \n",
       "8        3588   50401       3    IA     NaN    NaN         NaN      190988   \n",
       "9       1,930   77080       3    TX     2.0    NaN         NaN    73968331   \n",
       "\n",
       "       target  \n",
       "0    $418,000  \n",
       "1    $310,000  \n",
       "2  $2,895,000  \n",
       "3  $2,395,000  \n",
       "4      $5,000  \n",
       "5    $209,000  \n",
       "6     181,500  \n",
       "7      68,000  \n",
       "8    $244,900  \n",
       "9    $311,995  "
      ]
     },
     "execution_count": 2,
     "metadata": {},
     "output_type": "execute_result"
    }
   ],
   "source": [
    "df = pd.read_csv('data.csv')\n",
    "df.head(10)"
   ]
  },
  {
   "cell_type": "code",
   "execution_count": 3,
   "metadata": {},
   "outputs": [
    {
     "name": "stdout",
     "output_type": "stream",
     "text": [
      "<class 'pandas.core.frame.DataFrame'>\n",
      "RangeIndex: 377185 entries, 0 to 377184\n",
      "Data columns (total 18 columns):\n",
      "status          337267 non-null object\n",
      "private pool    4181 non-null object\n",
      "propertyType    342452 non-null object\n",
      "street          377183 non-null object\n",
      "baths           270847 non-null object\n",
      "homeFacts       377185 non-null object\n",
      "fireplace       103115 non-null object\n",
      "city            377151 non-null object\n",
      "schools         377185 non-null object\n",
      "sqft            336608 non-null object\n",
      "zipcode         377185 non-null object\n",
      "beds            285903 non-null object\n",
      "state           377185 non-null object\n",
      "stories         226470 non-null object\n",
      "mls-id          24942 non-null object\n",
      "PrivatePool     40311 non-null object\n",
      "MlsId           310305 non-null object\n",
      "target          374704 non-null object\n",
      "dtypes: object(18)\n",
      "memory usage: 51.8+ MB\n"
     ]
    }
   ],
   "source": [
    "df.info()"
   ]
  },
  {
   "cell_type": "markdown",
   "metadata": {},
   "source": [
    "## Предварительное исследование требований рынка"
   ]
  },
  {
   "cell_type": "markdown",
   "metadata": {},
   "source": [
    "К первому фактору, влияющему на стоимость жилья, относится его территориальное расположение. Цены на недвижимость могут значительно различаться в разных штатах.\n",
    "\n",
    "Ко второму фактору, от которого зависит стоимость жилья, относится близость дома к важным для жизни объектам (метрополитен, школа, больница и т.д.) \n",
    "\n",
    "Третьим фактором, формирующим цену приобретаемого жилья, можно назвать его тип.\n",
    "\n",
    "К ряду факторов, определяющих стоимость жилья, относятся его площадь и планировка, а также наличие лифта, мусоропровода, отопления, паркинга и т.д.\n",
    "\n",
    "Также потенциальные покупатели обращают внимание на состояние жилья, год его постройки."
   ]
  },
  {
   "cell_type": "markdown",
   "metadata": {},
   "source": [
    "## Определение задачи для машинного обучения"
   ]
  },
  {
   "cell_type": "markdown",
   "metadata": {},
   "source": [
    "Динамическое ценообразование: изменение стоимости товара или услуги в зависимости от множества параметров"
   ]
  },
  {
   "cell_type": "markdown",
   "metadata": {},
   "source": [
    "## Выбор алгоритма и метода для решения задачи"
   ]
  },
  {
   "cell_type": "markdown",
   "metadata": {},
   "source": [
    "Так как у нас имеется target-переменная (целевая), а множество значений для target-переменной бесконечно, то  лучше всего для решения данной задачи подойдет класс обучение с учителем, подкласс регрессия."
   ]
  },
  {
   "cell_type": "markdown",
   "metadata": {},
   "source": [
    "## Определение бизнес-требований"
   ]
  },
  {
   "cell_type": "markdown",
   "metadata": {},
   "source": [
    "##### Цель.\n",
    "Разработать сервис, который будет предсказывать стоимость домов, основываясь на истории предложений. \n",
    "\n",
    "##### Минимальный жизнеспособный продукт.\n",
    "Сервис будет предлагать оптимальную цену на объект недвижимости исходя из его вводных параметров.\n",
    "\n",
    "##### SMART-цель.\n",
    "До 01.06.2020 (включительно) разработать работающий сервис, который будет предлагать оптимальную цену на объект недвижимости исходя из его вводных параметров. Процент отклонения от цены (ошибки) не будет превышать 15%."
   ]
  },
  {
   "cell_type": "markdown",
   "metadata": {},
   "source": [
    "## Подготовка данных"
   ]
  },
  {
   "cell_type": "code",
   "execution_count": 4,
   "metadata": {},
   "outputs": [
    {
     "data": {
      "text/plain": [
       "Index(['status', 'private pool', 'propertyType', 'street', 'baths',\n",
       "       'homeFacts', 'fireplace', 'city', 'schools', 'sqft', 'zipcode', 'beds',\n",
       "       'state', 'stories', 'mls-id', 'PrivatePool', 'MlsId', 'target'],\n",
       "      dtype='object')"
      ]
     },
     "execution_count": 4,
     "metadata": {},
     "output_type": "execute_result"
    }
   ],
   "source": [
    "df.columns"
   ]
  },
  {
   "cell_type": "markdown",
   "metadata": {},
   "source": [
    "Проверим наличие пропусков"
   ]
  },
  {
   "cell_type": "code",
   "execution_count": 5,
   "metadata": {},
   "outputs": [
    {
     "data": {
      "text/plain": [
       "status           39918\n",
       "private pool    373004\n",
       "propertyType     34733\n",
       "street               2\n",
       "baths           106338\n",
       "homeFacts            0\n",
       "fireplace       274070\n",
       "city                34\n",
       "schools              0\n",
       "sqft             40577\n",
       "zipcode              0\n",
       "beds             91282\n",
       "state                0\n",
       "stories         150715\n",
       "mls-id          352243\n",
       "PrivatePool     336874\n",
       "MlsId            66880\n",
       "target            2481\n",
       "dtype: int64"
      ]
     },
     "execution_count": 5,
     "metadata": {},
     "output_type": "execute_result"
    }
   ],
   "source": [
    "df.isnull().sum()"
   ]
  },
  {
   "cell_type": "markdown",
   "metadata": {},
   "source": [
    "<img src=\"https://avatars.mds.yandex.net/get-pdb/38069/010936ad-1b9b-48b6-97b7-efc3db78fd93/orig\">"
   ]
  },
  {
   "cell_type": "markdown",
   "metadata": {},
   "source": [
    "Мы сразу видим, что по столбцам \"private pool\", \"fireplace\", \"stories\", \"mls-id\" и \"PrivatePool\" огромное количество пропусков информации. Посмотрим насколько они для нас могут быть важны.\n",
    "\n",
    "Графы \"private pool\" и \"PrivatePool\" являются дублирующими, поэтому первым делом их стоит свести в один общий столбец. Т.к. наличие собственного бассейна может оказать влияние на цену недвижимости, то следует этот показатель оставить. Поэтому мы принимает решение, что ячейки с отсутствием информации о наличии бассейна равняется отсутствию бассейна."
   ]
  },
  {
   "cell_type": "code",
   "execution_count": 6,
   "metadata": {},
   "outputs": [],
   "source": [
    "df['PrivatePool'] = df.PrivatePool.fillna('no')\n",
    "df['private pool'] = df['private pool'].fillna('no')\n",
    "df['private_pool'] = df['private pool'] + df['PrivatePool']\n",
    "df['private_pool'] = df['private_pool'].apply(lambda x: 0 if x==\"nono\" else 1)"
   ]
  },
  {
   "cell_type": "markdown",
   "metadata": {},
   "source": [
    "\"Мультилистинг — система взаимодействия участников рынка недвижимости, действующих через электронные базы данных, в которой агентство, заинтересованное в быстрой продаже или аренде своих эксклюзивных объектов недвижимости готово поделиться частью своей комиссии и привлекает другие агентства к возмездному сотрудничеству в поиске покупателя/арендатора в счет своей комиссии.\" (Материал из Википедии)\n",
    "\n",
    "Сама информация о номере ID нам не нужна, но может быть интересна информация о наличии факта внесения недвижимости в базу. Для этого создадим дополнительный столбец."
   ]
  },
  {
   "cell_type": "code",
   "execution_count": 7,
   "metadata": {},
   "outputs": [],
   "source": [
    "df['mls-id'] = df['mls-id'].fillna('no')\n",
    "df['MlsId'] = df.MlsId.fillna('no')\n",
    "df['mls_id'] = df['mls-id'] + df['MlsId']\n",
    "df['mls_id'] = df['mls_id'].apply(lambda x: 0 if x == \"nono\" else 1)"
   ]
  },
  {
   "cell_type": "markdown",
   "metadata": {},
   "source": [
    "Аналогично приведем данные о наличие газа к одному виду (1/0)"
   ]
  },
  {
   "cell_type": "code",
   "execution_count": 8,
   "metadata": {},
   "outputs": [],
   "source": [
    "df['fireplace'] = df.fireplace.fillna('no')\n",
    "df['fireplace'] = df['fireplace'].apply(lambda x: 0 if x==\"no\" else 1)"
   ]
  },
  {
   "cell_type": "markdown",
   "metadata": {},
   "source": [
    "Информация о количестве этажей для нас является не такой существенной, поэтому ей мы можем пренебречь."
   ]
  },
  {
   "cell_type": "markdown",
   "metadata": {},
   "source": [
    "Нормализуем числовые данные\n",
    "\n",
    "Для этого выделим данные о площади помещения, количестве жилых и ванных комнат и цене в числовом формате"
   ]
  },
  {
   "cell_type": "code",
   "execution_count": 9,
   "metadata": {},
   "outputs": [],
   "source": [
    "df['sqft1'] = df.sqft.apply(lambda t:str(t).replace(',',''))\n",
    "df['sqft1'] = df.sqft1.str.extract('(\\d*\\.\\d+|\\d+)').astype(float)"
   ]
  },
  {
   "cell_type": "code",
   "execution_count": 10,
   "metadata": {},
   "outputs": [],
   "source": [
    "df['baths1'] = df.baths.apply(lambda t:str(t).replace(',',''))\n",
    "df['baths1'] = df.baths1.str.extract('(\\d*\\.\\d+|\\d+)').astype(float)"
   ]
  },
  {
   "cell_type": "code",
   "execution_count": 11,
   "metadata": {},
   "outputs": [],
   "source": [
    "df['beds1'] = df.beds.apply(lambda t:str(t).replace(',',''))\n",
    "df['beds1'] = df.beds1.str.extract('(\\d*\\.\\d+|\\d+)').astype(float)"
   ]
  },
  {
   "cell_type": "code",
   "execution_count": 12,
   "metadata": {},
   "outputs": [],
   "source": [
    "df['target1'] = df.target.apply(lambda t:str(t).replace(',',''))\n",
    "df['target1'] = df.target1.apply(lambda t:str(t).replace('$',''))\n",
    "df['target1'] = df.target1.apply(pd.to_numeric, errors='coerce')"
   ]
  },
  {
   "cell_type": "markdown",
   "metadata": {},
   "source": [
    "Следующим этапом определим основные группы данных по графам \"status\", \"propertyType\", \"city\""
   ]
  },
  {
   "cell_type": "code",
   "execution_count": 13,
   "metadata": {},
   "outputs": [
    {
     "name": "stdout",
     "output_type": "stream",
     "text": [
      "status\n",
      "for sale                     156104\n",
      "Active                       105207\n",
      "For sale                      43465\n",
      "foreclosure                    6426\n",
      "New construction               5475\n",
      "Pending                        4702\n",
      "Pre-foreclosure                2119\n",
      "Pre-foreclosure / auction      1560\n",
      "P                              1488\n",
      "Under Contract Show            1183\n",
      " / auction                      936\n",
      "Under Contract   Showing        793\n",
      "Active Under Contract           718\n",
      "Under Contract                  690\n",
      "New                             690\n",
      "Contingent                      581\n",
      "Price Change                    563\n",
      "Auction                         536\n",
      "Foreclosed                      459\n",
      "A Active                        443\n",
      "Name: private pool, dtype: int64\n"
     ]
    }
   ],
   "source": [
    "df_status = df.groupby(['status'])['private pool'].count().sort_values(ascending=False)\n",
    "print(df_status.head(20))"
   ]
  },
  {
   "cell_type": "code",
   "execution_count": 14,
   "metadata": {},
   "outputs": [
    {
     "name": "stdout",
     "output_type": "stream",
     "text": [
      "propertyType\n",
      "single-family home               92206\n",
      "Single Family                    62869\n",
      "Single Family Home               31728\n",
      "condo                            25968\n",
      "lot/land                         20552\n",
      "Condo                            16561\n",
      "townhouse                        11464\n",
      "Land                             10934\n",
      "multi-family                      7900\n",
      "Condo/Townhome/Row Home/Co-Op     7701\n",
      "Townhouse                         6936\n",
      "Traditional                       5913\n",
      "coop                              3266\n",
      "Multi Family                      2794\n",
      "High Rise                         1823\n",
      "Ranch                             1781\n",
      "mobile/manufactured               1618\n",
      "Detached, One Story               1614\n",
      "Single Detached, Traditional      1581\n",
      "Contemporary                      1557\n",
      "Multi-Family Home                 1501\n",
      "1 Story                           1234\n",
      "Colonial                          1205\n",
      "Mobile / Manufactured             1066\n",
      "Contemporary/Modern               1000\n",
      "2 Stories                          911\n",
      "Mfd/Mobile Home                    792\n",
      "Single Detached                    751\n",
      "Detached, Two Story                638\n",
      "Apartment                          609\n",
      "Name: private pool, dtype: int64\n"
     ]
    }
   ],
   "source": [
    "df_propertyType = df.groupby(['propertyType'])['private pool'].count().sort_values(ascending=False)\n",
    "print(df_propertyType.head(30))"
   ]
  },
  {
   "cell_type": "code",
   "execution_count": 15,
   "metadata": {},
   "outputs": [
    {
     "name": "stdout",
     "output_type": "stream",
     "text": [
      "city\n",
      "Houston             24442\n",
      "San Antonio         15592\n",
      "Miami               15524\n",
      "Jacksonville        10015\n",
      "Dallas               8856\n",
      "Brooklyn             7291\n",
      "Chicago              6968\n",
      "New York             6919\n",
      "Charlotte            6543\n",
      "Las Vegas            6006\n",
      "Fort Worth           5518\n",
      "Orlando              5230\n",
      "Austin               5155\n",
      "Fort Lauderdale      5103\n",
      "Cleveland            5029\n",
      "Nashville            5011\n",
      "Tampa                4833\n",
      "Philadelphia         4797\n",
      "Washington           4674\n",
      "Los Angeles          4174\n",
      "Seattle              4081\n",
      "Atlanta              3976\n",
      "Ocala                3323\n",
      "Palm Coast           3248\n",
      "Detroit              3134\n",
      "Kissimmee            3116\n",
      "Indianapolis         2709\n",
      "Miami Beach          2634\n",
      "Saint Petersburg     2551\n",
      "Memphis              2506\n",
      "Name: private pool, dtype: int64\n"
     ]
    }
   ],
   "source": [
    "df_city = df.groupby(['city'])['private pool'].count().sort_values(ascending=False)\n",
    "print(df_city.head(30))"
   ]
  },
  {
   "cell_type": "markdown",
   "metadata": {},
   "source": [
    "Создадим новые графы с унифицированными \"status\", \"propertyType\", \"city\""
   ]
  },
  {
   "cell_type": "markdown",
   "metadata": {},
   "source": [
    "Распределим статусы продажи от 0 до 1.\n",
    "Для статусов, обозначающих, что объект продается выставим параметр 0.5, если покупатель уже найден - 1, если объект планируется к продаже - 0 (согласно сайту https://www.redfin.com/definition/single-family-residence)"
   ]
  },
  {
   "cell_type": "code",
   "execution_count": 16,
   "metadata": {},
   "outputs": [],
   "source": [
    "df['status1'] = df.status.apply(lambda s:str(s).lower())\n",
    "def status(row):\n",
    "    if 'sale' in row['status1']:\n",
    "        return float(0.5)\n",
    "    if 'under' in row['status1']:\n",
    "        return float(1)\n",
    "    if 'pending' in row['status1']:\n",
    "        return float(1)\n",
    "    if 'new' in row['status1']:\n",
    "        return float(0.5)\n",
    "    if 'сonting' in row['status1']:\n",
    "        return float(1)\n",
    "    if 'forec' in row['status1']:\n",
    "        return float(0)\n",
    "    if 'active' in row['status1']:\n",
    "        return float(0)\n",
    "    if 'auction' in row['status1']:\n",
    "        return float(0.5)\n",
    "    return float(-1)\n",
    "df['status1'] = df.apply(status, axis = 1)"
   ]
  },
  {
   "cell_type": "markdown",
   "metadata": {},
   "source": [
    "Распределим типы недвижимости в зависимости от основных типов недвижимости: Single-Family Home, c, Townhouse, Multi-Family Home, Condominium, Cooperatives, Mobile (согласно сайту https://www.redfin.com/resources/difference-between-building-types)"
   ]
  },
  {
   "cell_type": "code",
   "execution_count": 17,
   "metadata": {},
   "outputs": [],
   "source": [
    "df['propertyType1'] = df.propertyType.apply(lambda s:str(s).lower())\n",
    "def property(row):\n",
    "    if 'detach' in row['propertyType1']:\n",
    "        return 'single_family'\n",
    "    if 'land' in row['propertyType1']:\n",
    "        return 'mobile'\n",
    "    if 'ranch' in row['propertyType1']:\n",
    "        return 'mobile'\n",
    "    if 'condo' in row['propertyType1']:\n",
    "        return 'condominium'\n",
    "    if 'mult' in row['propertyType1']:\n",
    "        return 'multi_family'\n",
    "    if 'apart' in row['propertyType1']:\n",
    "        return 'condominium'\n",
    "    if 'high' in row['propertyType1']:\n",
    "        return 'condominium'\n",
    "    if 'coop' in row['propertyType1']:\n",
    "        return 'cooperatives'\n",
    "    if 'town' in row['propertyType1']:\n",
    "        return 'townhouse'\n",
    "    if 'mobi' in row['propertyType1']:\n",
    "        return 'mobile'\n",
    "    if 'single' in row['propertyType1']:\n",
    "        return 'single_family'\n",
    "    if 'tradit' in row['propertyType1']:\n",
    "        return 'single_family'    \n",
    "    return ''\n",
    "df['propertyType1'] = df.apply(property, axis = 1)"
   ]
  },
  {
   "cell_type": "markdown",
   "metadata": {},
   "source": [
    "Выделим топ-30 городов, а остальные данные запишем как \"other\""
   ]
  },
  {
   "cell_type": "code",
   "execution_count": 18,
   "metadata": {},
   "outputs": [],
   "source": [
    "df['city1'] = df.city.apply(lambda s:str(s).lower())\n",
    "def city(row):\n",
    "    top_city = ['houston'\n",
    "                ,'san antonio'\n",
    "                ,'miami'\n",
    "                ,'jacksonville'\n",
    "                ,'dallas'\n",
    "                ,'brooklyn'\n",
    "                ,'chicago'\n",
    "                ,'new york'\n",
    "                ,'charlotte'\n",
    "                ,'las vegas'\n",
    "                ,'fort worth'\n",
    "                ,'orlando'\n",
    "                ,'austin'\n",
    "                ,'fort lauderdale'\n",
    "                ,'cleveland'\n",
    "                ,'nashville'\n",
    "                ,'tampa'\n",
    "                ,'philadelphia'\n",
    "                ,'washington'\n",
    "                ,'los angeles'\n",
    "                ,'seattle'\n",
    "                ,'atlanta'\n",
    "                ,'ocala'\n",
    "                ,'palm coast'\n",
    "                ,'detroit'\n",
    "                ,'kissimmee'\n",
    "                ,'indianapolis'\n",
    "                ,'miami beach'\n",
    "                ,'saint petersburg'\n",
    "                'memphis']\n",
    "    if row['city1'] in top_city:\n",
    "        return row['city1']\n",
    "    return 'other'\n",
    "df['city1'] = df.apply(city, axis = 1)"
   ]
  },
  {
   "cell_type": "markdown",
   "metadata": {},
   "source": [
    "Рассмотрим подробнее данные в графе \"homeFacts\""
   ]
  },
  {
   "cell_type": "code",
   "execution_count": 19,
   "metadata": {},
   "outputs": [
    {
     "data": {
      "text/plain": [
       "\"{'atAGlanceFacts': [{'factValue': '2019', 'factLabel': 'Year built'}, {'factValue': '', 'factLabel': 'Remodeled year'}, {'factValue': 'Central A/C, Heat Pump', 'factLabel': 'Heating'}, {'factValue': '', 'factLabel': 'Cooling'}, {'factValue': '', 'factLabel': 'Parking'}, {'factValue': None, 'factLabel': 'lotsize'}, {'factValue': '$144', 'factLabel': 'Price/sqft'}]}\""
      ]
     },
     "execution_count": 19,
     "metadata": {},
     "output_type": "execute_result"
    }
   ],
   "source": [
    "home = df.loc[0,\"homeFacts\"]\n",
    "home"
   ]
  },
  {
   "cell_type": "markdown",
   "metadata": {},
   "source": [
    "Для удобства преобразуем данные в список с вложенным словарём"
   ]
  },
  {
   "cell_type": "code",
   "execution_count": 20,
   "metadata": {},
   "outputs": [],
   "source": [
    "def home(row):\n",
    "    home = row['homeFacts'].replace(\"{'atAGlanceFacts': [\", '')\n",
    "    home = home.replace(\"]}\", '')\n",
    "    home = home.replace(\"},\", '}!')\n",
    "    rating1 = home.split('!')\n",
    "    rating2 = [eval(a)for a in rating1]\n",
    "    return rating2\n",
    "df['homeFacts'] = df.apply(home, axis = 1)"
   ]
  },
  {
   "cell_type": "markdown",
   "metadata": {},
   "source": [
    "Из полученных списков вытащим данные о годе постройки, наличие парковки, обогрева и охлаждения"
   ]
  },
  {
   "cell_type": "code",
   "execution_count": 21,
   "metadata": {},
   "outputs": [],
   "source": [
    "def year_built(row):\n",
    "    csv_dict_built = []\n",
    "    text = 'Year built'\n",
    "    for record in row['homeFacts']:\n",
    "        if text in  record['factLabel']:\n",
    "            csv_dict_built.append(record)\n",
    "    return csv_dict_built[0]['factValue']\n",
    "df['year_built'] = df.apply(year_built, axis = 1)\n",
    "df['year_built'] = df.year_built.str.extract('(\\d+)').astype(float)"
   ]
  },
  {
   "cell_type": "code",
   "execution_count": 22,
   "metadata": {},
   "outputs": [],
   "source": [
    "def heating(row):\n",
    "    csv_dict_built = []\n",
    "    text = 'Heating'\n",
    "    for record in row['homeFacts']:\n",
    "        if text in  record['factLabel']:\n",
    "            csv_dict_built.append(record)\n",
    "    return csv_dict_built[0]['factValue']\n",
    "df['heating'] = df.apply(heating, axis = 1)\n",
    "df['heating'] = df['heating'].apply(lambda x: 0 if x==\"\" or x==\"None\" else 1)"
   ]
  },
  {
   "cell_type": "code",
   "execution_count": 23,
   "metadata": {},
   "outputs": [],
   "source": [
    "def cooling(row):\n",
    "    csv_dict_built = []\n",
    "    text = 'Cooling'\n",
    "    for record in row['homeFacts']:\n",
    "        if text in  record['factLabel']:\n",
    "            csv_dict_built.append(record)\n",
    "    return csv_dict_built[0]['factValue']\n",
    "df['cooling'] = df.apply(cooling, axis = 1)\n",
    "df['cooling'] = df['cooling'].apply(lambda x: 0 if x==\"\" or x==\"None\" else 1)"
   ]
  },
  {
   "cell_type": "code",
   "execution_count": 24,
   "metadata": {},
   "outputs": [],
   "source": [
    "def parking(row):\n",
    "    csv_dict_built = []\n",
    "    text = 'Parking'\n",
    "    for record in row['homeFacts']:\n",
    "        if text in  record['factLabel']:\n",
    "            csv_dict_built.append(record)\n",
    "    return csv_dict_built[0]['factValue']\n",
    "df['parking'] = df.apply(parking, axis = 1)\n",
    "df['parking'] = df['parking'].apply(lambda x: 0 if x==\"\" or x==\"None\" else 1)"
   ]
  },
  {
   "cell_type": "markdown",
   "metadata": {},
   "source": [
    "Теперь разберем из чего состоит графа \"schools\""
   ]
  },
  {
   "cell_type": "code",
   "execution_count": 25,
   "metadata": {},
   "outputs": [
    {
     "data": {
      "text/plain": [
       "\"[{'rating': ['4/10', 'None/10', '4/10'], 'data': {'Distance': ['1.65mi', '1.32mi', '1.01mi'], 'Grades': ['9-12', '3-8', 'PK-8']}, 'name': ['East Valley High School&Extension', 'Eastvalley Middle School', 'Trentwood Elementary School']}]\""
      ]
     },
     "execution_count": 25,
     "metadata": {},
     "output_type": "execute_result"
    }
   ],
   "source": [
    "school = df.loc[1,\"schools\"]\n",
    "school"
   ]
  },
  {
   "cell_type": "code",
   "execution_count": 26,
   "metadata": {},
   "outputs": [],
   "source": [
    "import re\n",
    "def average_rating(row):\n",
    "    school = row['schools']\n",
    "    rating = school.split('rating')[1].split('data')[0]\n",
    "    pattern = re.compile ('(\\d*\\.\\d+|\\d+|NR|None)')\n",
    "    rating = pattern.findall(rating)\n",
    "    qty = len (rating)\n",
    "    distance = school.split('Distance')[1].split('Grades')[0]\n",
    "    distance = pattern.findall(distance)\n",
    "    quantity = len (distance)\n",
    "    if qty >= 2*quantity:\n",
    "        rating = rating[::2]\n",
    "    numbers = ['1', '2', '3', '4', '5', '6', '7', '8', '9', '10']\n",
    "    amount = 0\n",
    "    for x in rating:\n",
    "        if x in numbers:\n",
    "            amount += int(x)\n",
    "    if len(rating) == 0:\n",
    "        return 0\n",
    "    return amount/len(rating)\n",
    "df['average_rating'] = df.apply(average_rating, axis = 1)"
   ]
  },
  {
   "cell_type": "code",
   "execution_count": 27,
   "metadata": {},
   "outputs": [],
   "source": [
    "def average_distance(row):\n",
    "    school = row['schools']\n",
    "    distance = school.split('Distance')[1].split('Grades')[0]\n",
    "    pattern = re.compile ('(\\d*\\.\\d+|\\d+|NR|None)')\n",
    "    distance = pattern.findall(distance)\n",
    "    quantity = len (distance)\n",
    "    amount = 0\n",
    "    for x in distance:\n",
    "        if '1' or '2' or '3' or '4' or '5' or '6' or '7' or '8' or '9' or '0' in x:\n",
    "            amount += float(x)\n",
    "    if quantity == 0:\n",
    "        return 0\n",
    "    return amount/quantity\n",
    "df['average_distance'] = df.apply(average_distance, axis = 1)"
   ]
  },
  {
   "cell_type": "markdown",
   "metadata": {},
   "source": [
    "Посмотрим получившийся результат"
   ]
  },
  {
   "cell_type": "code",
   "execution_count": 28,
   "metadata": {},
   "outputs": [
    {
     "data": {
      "text/html": [
       "<div>\n",
       "<style scoped>\n",
       "    .dataframe tbody tr th:only-of-type {\n",
       "        vertical-align: middle;\n",
       "    }\n",
       "\n",
       "    .dataframe tbody tr th {\n",
       "        vertical-align: top;\n",
       "    }\n",
       "\n",
       "    .dataframe thead th {\n",
       "        text-align: right;\n",
       "    }\n",
       "</style>\n",
       "<table border=\"1\" class=\"dataframe\">\n",
       "  <thead>\n",
       "    <tr style=\"text-align: right;\">\n",
       "      <th></th>\n",
       "      <th>status</th>\n",
       "      <th>private pool</th>\n",
       "      <th>propertyType</th>\n",
       "      <th>street</th>\n",
       "      <th>baths</th>\n",
       "      <th>homeFacts</th>\n",
       "      <th>fireplace</th>\n",
       "      <th>city</th>\n",
       "      <th>schools</th>\n",
       "      <th>sqft</th>\n",
       "      <th>...</th>\n",
       "      <th>target1</th>\n",
       "      <th>status1</th>\n",
       "      <th>propertyType1</th>\n",
       "      <th>city1</th>\n",
       "      <th>year_built</th>\n",
       "      <th>heating</th>\n",
       "      <th>cooling</th>\n",
       "      <th>parking</th>\n",
       "      <th>average_rating</th>\n",
       "      <th>average_distance</th>\n",
       "    </tr>\n",
       "  </thead>\n",
       "  <tbody>\n",
       "    <tr>\n",
       "      <td>0</td>\n",
       "      <td>Active</td>\n",
       "      <td>no</td>\n",
       "      <td>Single Family Home</td>\n",
       "      <td>240 Heather Ln</td>\n",
       "      <td>3.5</td>\n",
       "      <td>[{'factValue': '2019', 'factLabel': 'Year buil...</td>\n",
       "      <td>1</td>\n",
       "      <td>Southern Pines</td>\n",
       "      <td>[{'rating': ['4', '4', '7', 'NR', '4', '7', 'N...</td>\n",
       "      <td>2900</td>\n",
       "      <td>...</td>\n",
       "      <td>418000.0</td>\n",
       "      <td>0.0</td>\n",
       "      <td>single_family</td>\n",
       "      <td>other</td>\n",
       "      <td>2019.0</td>\n",
       "      <td>1</td>\n",
       "      <td>0</td>\n",
       "      <td>0</td>\n",
       "      <td>3.250000</td>\n",
       "      <td>5.537500</td>\n",
       "    </tr>\n",
       "    <tr>\n",
       "      <td>1</td>\n",
       "      <td>for sale</td>\n",
       "      <td>no</td>\n",
       "      <td>single-family home</td>\n",
       "      <td>12911 E Heroy Ave</td>\n",
       "      <td>3 Baths</td>\n",
       "      <td>[{'factValue': '2019', 'factLabel': 'Year buil...</td>\n",
       "      <td>0</td>\n",
       "      <td>Spokane Valley</td>\n",
       "      <td>[{'rating': ['4/10', 'None/10', '4/10'], 'data...</td>\n",
       "      <td>1,947 sqft</td>\n",
       "      <td>...</td>\n",
       "      <td>310000.0</td>\n",
       "      <td>0.5</td>\n",
       "      <td>single_family</td>\n",
       "      <td>other</td>\n",
       "      <td>2019.0</td>\n",
       "      <td>0</td>\n",
       "      <td>0</td>\n",
       "      <td>0</td>\n",
       "      <td>2.666667</td>\n",
       "      <td>1.326667</td>\n",
       "    </tr>\n",
       "    <tr>\n",
       "      <td>2</td>\n",
       "      <td>for sale</td>\n",
       "      <td>no</td>\n",
       "      <td>single-family home</td>\n",
       "      <td>2005 Westridge Rd</td>\n",
       "      <td>2 Baths</td>\n",
       "      <td>[{'factValue': '1961', 'factLabel': 'Year buil...</td>\n",
       "      <td>1</td>\n",
       "      <td>Los Angeles</td>\n",
       "      <td>[{'rating': ['8/10', '4/10', '8/10'], 'data': ...</td>\n",
       "      <td>3,000 sqft</td>\n",
       "      <td>...</td>\n",
       "      <td>2895000.0</td>\n",
       "      <td>0.5</td>\n",
       "      <td>single_family</td>\n",
       "      <td>los angeles</td>\n",
       "      <td>1961.0</td>\n",
       "      <td>1</td>\n",
       "      <td>1</td>\n",
       "      <td>1</td>\n",
       "      <td>6.666667</td>\n",
       "      <td>1.960000</td>\n",
       "    </tr>\n",
       "    <tr>\n",
       "      <td>3</td>\n",
       "      <td>for sale</td>\n",
       "      <td>no</td>\n",
       "      <td>single-family home</td>\n",
       "      <td>4311 Livingston Ave</td>\n",
       "      <td>8 Baths</td>\n",
       "      <td>[{'factValue': '2006', 'factLabel': 'Year buil...</td>\n",
       "      <td>1</td>\n",
       "      <td>Dallas</td>\n",
       "      <td>[{'rating': ['9/10', '9/10', '10/10', '9/10'],...</td>\n",
       "      <td>6,457 sqft</td>\n",
       "      <td>...</td>\n",
       "      <td>2395000.0</td>\n",
       "      <td>0.5</td>\n",
       "      <td>single_family</td>\n",
       "      <td>dallas</td>\n",
       "      <td>2006.0</td>\n",
       "      <td>1</td>\n",
       "      <td>1</td>\n",
       "      <td>1</td>\n",
       "      <td>9.250000</td>\n",
       "      <td>0.752500</td>\n",
       "    </tr>\n",
       "    <tr>\n",
       "      <td>4</td>\n",
       "      <td>for sale</td>\n",
       "      <td>no</td>\n",
       "      <td>lot/land</td>\n",
       "      <td>1524 Kiscoe St</td>\n",
       "      <td>NaN</td>\n",
       "      <td>[{'factValue': '', 'factLabel': 'Year built'},...</td>\n",
       "      <td>0</td>\n",
       "      <td>Palm Bay</td>\n",
       "      <td>[{'rating': ['4/10', '5/10', '5/10'], 'data': ...</td>\n",
       "      <td>NaN</td>\n",
       "      <td>...</td>\n",
       "      <td>5000.0</td>\n",
       "      <td>0.5</td>\n",
       "      <td>mobile</td>\n",
       "      <td>other</td>\n",
       "      <td>NaN</td>\n",
       "      <td>0</td>\n",
       "      <td>0</td>\n",
       "      <td>0</td>\n",
       "      <td>4.666667</td>\n",
       "      <td>4.080000</td>\n",
       "    </tr>\n",
       "    <tr>\n",
       "      <td>5</td>\n",
       "      <td>for sale</td>\n",
       "      <td>no</td>\n",
       "      <td>townhouse</td>\n",
       "      <td>1624 S Newkirk St</td>\n",
       "      <td>NaN</td>\n",
       "      <td>[{'factValue': '1920', 'factLabel': 'Year buil...</td>\n",
       "      <td>0</td>\n",
       "      <td>Philadelphia</td>\n",
       "      <td>[{'rating': [], 'data': {'Distance': [], 'Grad...</td>\n",
       "      <td>897 sqft</td>\n",
       "      <td>...</td>\n",
       "      <td>209000.0</td>\n",
       "      <td>0.5</td>\n",
       "      <td>townhouse</td>\n",
       "      <td>philadelphia</td>\n",
       "      <td>1920.0</td>\n",
       "      <td>1</td>\n",
       "      <td>1</td>\n",
       "      <td>0</td>\n",
       "      <td>0.000000</td>\n",
       "      <td>0.000000</td>\n",
       "    </tr>\n",
       "    <tr>\n",
       "      <td>6</td>\n",
       "      <td>Active</td>\n",
       "      <td>no</td>\n",
       "      <td>Florida</td>\n",
       "      <td>552 Casanova Ct</td>\n",
       "      <td>NaN</td>\n",
       "      <td>[{'factValue': '2006', 'factLabel': 'Year buil...</td>\n",
       "      <td>0</td>\n",
       "      <td>POINCIANA</td>\n",
       "      <td>[{'rating': ['3', '3', '1', 'NR'], 'data': {'D...</td>\n",
       "      <td>1,507</td>\n",
       "      <td>...</td>\n",
       "      <td>181500.0</td>\n",
       "      <td>0.0</td>\n",
       "      <td></td>\n",
       "      <td>other</td>\n",
       "      <td>2006.0</td>\n",
       "      <td>1</td>\n",
       "      <td>1</td>\n",
       "      <td>0</td>\n",
       "      <td>1.750000</td>\n",
       "      <td>3.825000</td>\n",
       "    </tr>\n",
       "    <tr>\n",
       "      <td>7</td>\n",
       "      <td>Active</td>\n",
       "      <td>no</td>\n",
       "      <td>NaN</td>\n",
       "      <td>6094 Mingle Dr</td>\n",
       "      <td>NaN</td>\n",
       "      <td>[{'factValue': '1976', 'factLabel': 'Year buil...</td>\n",
       "      <td>0</td>\n",
       "      <td>Memphis</td>\n",
       "      <td>[{'rating': ['4', '2', '2'], 'data': {'Distanc...</td>\n",
       "      <td>NaN</td>\n",
       "      <td>...</td>\n",
       "      <td>68000.0</td>\n",
       "      <td>0.0</td>\n",
       "      <td></td>\n",
       "      <td>other</td>\n",
       "      <td>1976.0</td>\n",
       "      <td>0</td>\n",
       "      <td>0</td>\n",
       "      <td>0</td>\n",
       "      <td>2.666667</td>\n",
       "      <td>1.100000</td>\n",
       "    </tr>\n",
       "    <tr>\n",
       "      <td>8</td>\n",
       "      <td>Active</td>\n",
       "      <td>no</td>\n",
       "      <td>Single Family Home</td>\n",
       "      <td>11182 Owl Ave</td>\n",
       "      <td>2</td>\n",
       "      <td>[{'factValue': '1970', 'factLabel': 'Year buil...</td>\n",
       "      <td>0</td>\n",
       "      <td>Mason City</td>\n",
       "      <td>[{'rating': ['2', '2', '4', '7', '4', 'NR'], '...</td>\n",
       "      <td>3588</td>\n",
       "      <td>...</td>\n",
       "      <td>244900.0</td>\n",
       "      <td>0.0</td>\n",
       "      <td>single_family</td>\n",
       "      <td>other</td>\n",
       "      <td>1970.0</td>\n",
       "      <td>1</td>\n",
       "      <td>1</td>\n",
       "      <td>0</td>\n",
       "      <td>3.166667</td>\n",
       "      <td>6.350000</td>\n",
       "    </tr>\n",
       "    <tr>\n",
       "      <td>9</td>\n",
       "      <td>NaN</td>\n",
       "      <td>no</td>\n",
       "      <td>Single Family</td>\n",
       "      <td>8612 Cedar Plains Ln</td>\n",
       "      <td>3</td>\n",
       "      <td>[{'factValue': '2019', 'factLabel': 'Year buil...</td>\n",
       "      <td>0</td>\n",
       "      <td>Houston</td>\n",
       "      <td>[{'rating': ['4/10', '3/10', '2/10'], 'data': ...</td>\n",
       "      <td>1,930</td>\n",
       "      <td>...</td>\n",
       "      <td>311995.0</td>\n",
       "      <td>-1.0</td>\n",
       "      <td>single_family</td>\n",
       "      <td>houston</td>\n",
       "      <td>2019.0</td>\n",
       "      <td>1</td>\n",
       "      <td>1</td>\n",
       "      <td>1</td>\n",
       "      <td>3.000000</td>\n",
       "      <td>1.066667</td>\n",
       "    </tr>\n",
       "  </tbody>\n",
       "</table>\n",
       "<p>10 rows × 33 columns</p>\n",
       "</div>"
      ],
      "text/plain": [
       "     status private pool        propertyType                street    baths  \\\n",
       "0    Active           no  Single Family Home        240 Heather Ln      3.5   \n",
       "1  for sale           no  single-family home     12911 E Heroy Ave  3 Baths   \n",
       "2  for sale           no  single-family home     2005 Westridge Rd  2 Baths   \n",
       "3  for sale           no  single-family home   4311 Livingston Ave  8 Baths   \n",
       "4  for sale           no            lot/land        1524 Kiscoe St      NaN   \n",
       "5  for sale           no           townhouse     1624 S Newkirk St      NaN   \n",
       "6    Active           no             Florida      552 Casanova Ct       NaN   \n",
       "7    Active           no                 NaN       6094 Mingle Dr       NaN   \n",
       "8    Active           no  Single Family Home         11182 Owl Ave        2   \n",
       "9       NaN           no       Single Family  8612 Cedar Plains Ln        3   \n",
       "\n",
       "                                           homeFacts  fireplace  \\\n",
       "0  [{'factValue': '2019', 'factLabel': 'Year buil...          1   \n",
       "1  [{'factValue': '2019', 'factLabel': 'Year buil...          0   \n",
       "2  [{'factValue': '1961', 'factLabel': 'Year buil...          1   \n",
       "3  [{'factValue': '2006', 'factLabel': 'Year buil...          1   \n",
       "4  [{'factValue': '', 'factLabel': 'Year built'},...          0   \n",
       "5  [{'factValue': '1920', 'factLabel': 'Year buil...          0   \n",
       "6  [{'factValue': '2006', 'factLabel': 'Year buil...          0   \n",
       "7  [{'factValue': '1976', 'factLabel': 'Year buil...          0   \n",
       "8  [{'factValue': '1970', 'factLabel': 'Year buil...          0   \n",
       "9  [{'factValue': '2019', 'factLabel': 'Year buil...          0   \n",
       "\n",
       "             city                                            schools  \\\n",
       "0  Southern Pines  [{'rating': ['4', '4', '7', 'NR', '4', '7', 'N...   \n",
       "1  Spokane Valley  [{'rating': ['4/10', 'None/10', '4/10'], 'data...   \n",
       "2     Los Angeles  [{'rating': ['8/10', '4/10', '8/10'], 'data': ...   \n",
       "3          Dallas  [{'rating': ['9/10', '9/10', '10/10', '9/10'],...   \n",
       "4        Palm Bay  [{'rating': ['4/10', '5/10', '5/10'], 'data': ...   \n",
       "5    Philadelphia  [{'rating': [], 'data': {'Distance': [], 'Grad...   \n",
       "6       POINCIANA  [{'rating': ['3', '3', '1', 'NR'], 'data': {'D...   \n",
       "7         Memphis  [{'rating': ['4', '2', '2'], 'data': {'Distanc...   \n",
       "8      Mason City  [{'rating': ['2', '2', '4', '7', '4', 'NR'], '...   \n",
       "9         Houston  [{'rating': ['4/10', '3/10', '2/10'], 'data': ...   \n",
       "\n",
       "         sqft  ...    target1 status1  propertyType1         city1 year_built  \\\n",
       "0        2900  ...   418000.0     0.0  single_family         other     2019.0   \n",
       "1  1,947 sqft  ...   310000.0     0.5  single_family         other     2019.0   \n",
       "2  3,000 sqft  ...  2895000.0     0.5  single_family   los angeles     1961.0   \n",
       "3  6,457 sqft  ...  2395000.0     0.5  single_family        dallas     2006.0   \n",
       "4         NaN  ...     5000.0     0.5         mobile         other        NaN   \n",
       "5    897 sqft  ...   209000.0     0.5      townhouse  philadelphia     1920.0   \n",
       "6       1,507  ...   181500.0     0.0                        other     2006.0   \n",
       "7         NaN  ...    68000.0     0.0                        other     1976.0   \n",
       "8        3588  ...   244900.0     0.0  single_family         other     1970.0   \n",
       "9       1,930  ...   311995.0    -1.0  single_family       houston     2019.0   \n",
       "\n",
       "  heating cooling parking  average_rating  average_distance  \n",
       "0       1       0       0        3.250000          5.537500  \n",
       "1       0       0       0        2.666667          1.326667  \n",
       "2       1       1       1        6.666667          1.960000  \n",
       "3       1       1       1        9.250000          0.752500  \n",
       "4       0       0       0        4.666667          4.080000  \n",
       "5       1       1       0        0.000000          0.000000  \n",
       "6       1       1       0        1.750000          3.825000  \n",
       "7       0       0       0        2.666667          1.100000  \n",
       "8       1       1       0        3.166667          6.350000  \n",
       "9       1       1       1        3.000000          1.066667  \n",
       "\n",
       "[10 rows x 33 columns]"
      ]
     },
     "execution_count": 28,
     "metadata": {},
     "output_type": "execute_result"
    }
   ],
   "source": [
    "df.head(10)"
   ]
  },
  {
   "cell_type": "markdown",
   "metadata": {},
   "source": [
    "Удалим столбцы, которые нам не потребуются в дальнейшем анализе"
   ]
  },
  {
   "cell_type": "code",
   "execution_count": 29,
   "metadata": {},
   "outputs": [
    {
     "data": {
      "text/plain": [
       "Index(['status', 'private pool', 'propertyType', 'street', 'baths',\n",
       "       'homeFacts', 'fireplace', 'city', 'schools', 'sqft', 'zipcode', 'beds',\n",
       "       'state', 'stories', 'mls-id', 'PrivatePool', 'MlsId', 'target',\n",
       "       'private_pool', 'mls_id', 'sqft1', 'baths1', 'beds1', 'target1',\n",
       "       'status1', 'propertyType1', 'city1', 'year_built', 'heating', 'cooling',\n",
       "       'parking', 'average_rating', 'average_distance'],\n",
       "      dtype='object')"
      ]
     },
     "execution_count": 29,
     "metadata": {},
     "output_type": "execute_result"
    }
   ],
   "source": [
    "df.columns"
   ]
  },
  {
   "cell_type": "code",
   "execution_count": 30,
   "metadata": {},
   "outputs": [],
   "source": [
    "df.drop(['status', 'private pool', 'propertyType', 'street', 'baths',\n",
    "       'homeFacts','city', 'schools', 'sqft', 'zipcode', 'beds',\n",
    "       'stories', 'mls-id', 'PrivatePool', 'MlsId', 'target'], axis = 1, inplace = True)"
   ]
  },
  {
   "cell_type": "markdown",
   "metadata": {},
   "source": [
    "Создадим удобные названия колонок"
   ]
  },
  {
   "cell_type": "code",
   "execution_count": 31,
   "metadata": {},
   "outputs": [
    {
     "data": {
      "text/plain": [
       "Index(['fireplace', 'state', 'private_pool', 'mls_id', 'sqft1', 'baths1',\n",
       "       'beds1', 'target1', 'status1', 'propertyType1', 'city1', 'year_built',\n",
       "       'heating', 'cooling', 'parking', 'average_rating', 'average_distance'],\n",
       "      dtype='object')"
      ]
     },
     "execution_count": 31,
     "metadata": {},
     "output_type": "execute_result"
    }
   ],
   "source": [
    "df.columns"
   ]
  },
  {
   "cell_type": "code",
   "execution_count": 32,
   "metadata": {},
   "outputs": [],
   "source": [
    "df.columns = ['fireplace'           #наличие собственного камина\n",
    "              ,'state'              #код штата\n",
    "              ,'private_pool'       #наличие собственного бассейна\n",
    "              ,'mls'                #наличие мультилистинга\n",
    "              ,'area'               #жилая площадь\n",
    "              ,'baths'              #количество ванных комнат\n",
    "              ,'beds'               #количество спальных\n",
    "              ,'target'             #цена\n",
    "              ,'status'             #статус продажи\n",
    "              ,'type_house'         #тип недвижимости\n",
    "              ,'city'               #название города\n",
    "              ,'year_built'         #год постройки\n",
    "              ,'heating'            #наличие отопления\n",
    "              ,'cooling'            #наличие кондиционера\n",
    "              ,'parking'            #наличие паркинга\n",
    "              ,'average_rating'     #средний рейтинг ближайших школ\n",
    "              ,'average_distance']  #среднее расстояние до ближайших школ"
   ]
  },
  {
   "cell_type": "markdown",
   "metadata": {},
   "source": [
    "Проверим, где у нас остались пропуски"
   ]
  },
  {
   "cell_type": "code",
   "execution_count": 33,
   "metadata": {},
   "outputs": [
    {
     "data": {
      "text/plain": [
       "fireplace                0\n",
       "state                    0\n",
       "private_pool             0\n",
       "mls                      0\n",
       "area                 41397\n",
       "baths               107838\n",
       "beds                108863\n",
       "target               10142\n",
       "status                   0\n",
       "type_house               0\n",
       "city                     0\n",
       "year_built           63596\n",
       "heating                  0\n",
       "cooling                  0\n",
       "parking                  0\n",
       "average_rating           0\n",
       "average_distance         0\n",
       "dtype: int64"
      ]
     },
     "execution_count": 33,
     "metadata": {},
     "output_type": "execute_result"
    }
   ],
   "source": [
    "df.isnull().sum()"
   ]
  },
  {
   "cell_type": "markdown",
   "metadata": {},
   "source": [
    "Заменим часть пропусков медианными значениями"
   ]
  },
  {
   "cell_type": "code",
   "execution_count": 34,
   "metadata": {},
   "outputs": [],
   "source": [
    "df.baths = df.baths.fillna(df.baths.median())\n",
    "df.beds = df.beds.fillna(df.beds.median())"
   ]
  },
  {
   "cell_type": "markdown",
   "metadata": {},
   "source": [
    "Удалим пустые данные"
   ]
  },
  {
   "cell_type": "code",
   "execution_count": 35,
   "metadata": {},
   "outputs": [],
   "source": [
    "df = df[(df['status']!=-1)]\n",
    "df = df[(df['type_house']!='')]\n",
    "df = df[(df['city']!='')]\n",
    "df = df.dropna()"
   ]
  },
  {
   "cell_type": "markdown",
   "metadata": {},
   "source": [
    "Посмотрим на результат"
   ]
  },
  {
   "cell_type": "code",
   "execution_count": 36,
   "metadata": {},
   "outputs": [
    {
     "data": {
      "text/html": [
       "<div>\n",
       "<style scoped>\n",
       "    .dataframe tbody tr th:only-of-type {\n",
       "        vertical-align: middle;\n",
       "    }\n",
       "\n",
       "    .dataframe tbody tr th {\n",
       "        vertical-align: top;\n",
       "    }\n",
       "\n",
       "    .dataframe thead th {\n",
       "        text-align: right;\n",
       "    }\n",
       "</style>\n",
       "<table border=\"1\" class=\"dataframe\">\n",
       "  <thead>\n",
       "    <tr style=\"text-align: right;\">\n",
       "      <th></th>\n",
       "      <th>fireplace</th>\n",
       "      <th>state</th>\n",
       "      <th>private_pool</th>\n",
       "      <th>mls</th>\n",
       "      <th>area</th>\n",
       "      <th>baths</th>\n",
       "      <th>beds</th>\n",
       "      <th>target</th>\n",
       "      <th>status</th>\n",
       "      <th>type_house</th>\n",
       "      <th>city</th>\n",
       "      <th>year_built</th>\n",
       "      <th>heating</th>\n",
       "      <th>cooling</th>\n",
       "      <th>parking</th>\n",
       "      <th>average_rating</th>\n",
       "      <th>average_distance</th>\n",
       "    </tr>\n",
       "  </thead>\n",
       "  <tbody>\n",
       "    <tr>\n",
       "      <td>0</td>\n",
       "      <td>1</td>\n",
       "      <td>NC</td>\n",
       "      <td>0</td>\n",
       "      <td>1</td>\n",
       "      <td>2900.0</td>\n",
       "      <td>3.5</td>\n",
       "      <td>4.0</td>\n",
       "      <td>418000.0</td>\n",
       "      <td>0.0</td>\n",
       "      <td>single_family</td>\n",
       "      <td>other</td>\n",
       "      <td>2019.0</td>\n",
       "      <td>1</td>\n",
       "      <td>0</td>\n",
       "      <td>0</td>\n",
       "      <td>3.250000</td>\n",
       "      <td>5.537500</td>\n",
       "    </tr>\n",
       "    <tr>\n",
       "      <td>1</td>\n",
       "      <td>0</td>\n",
       "      <td>WA</td>\n",
       "      <td>0</td>\n",
       "      <td>1</td>\n",
       "      <td>1947.0</td>\n",
       "      <td>3.0</td>\n",
       "      <td>3.0</td>\n",
       "      <td>310000.0</td>\n",
       "      <td>0.5</td>\n",
       "      <td>single_family</td>\n",
       "      <td>other</td>\n",
       "      <td>2019.0</td>\n",
       "      <td>0</td>\n",
       "      <td>0</td>\n",
       "      <td>0</td>\n",
       "      <td>2.666667</td>\n",
       "      <td>1.326667</td>\n",
       "    </tr>\n",
       "    <tr>\n",
       "      <td>2</td>\n",
       "      <td>1</td>\n",
       "      <td>CA</td>\n",
       "      <td>1</td>\n",
       "      <td>1</td>\n",
       "      <td>3000.0</td>\n",
       "      <td>2.0</td>\n",
       "      <td>3.0</td>\n",
       "      <td>2895000.0</td>\n",
       "      <td>0.5</td>\n",
       "      <td>single_family</td>\n",
       "      <td>los angeles</td>\n",
       "      <td>1961.0</td>\n",
       "      <td>1</td>\n",
       "      <td>1</td>\n",
       "      <td>1</td>\n",
       "      <td>6.666667</td>\n",
       "      <td>1.960000</td>\n",
       "    </tr>\n",
       "    <tr>\n",
       "      <td>3</td>\n",
       "      <td>1</td>\n",
       "      <td>TX</td>\n",
       "      <td>0</td>\n",
       "      <td>1</td>\n",
       "      <td>6457.0</td>\n",
       "      <td>8.0</td>\n",
       "      <td>5.0</td>\n",
       "      <td>2395000.0</td>\n",
       "      <td>0.5</td>\n",
       "      <td>single_family</td>\n",
       "      <td>dallas</td>\n",
       "      <td>2006.0</td>\n",
       "      <td>1</td>\n",
       "      <td>1</td>\n",
       "      <td>1</td>\n",
       "      <td>9.250000</td>\n",
       "      <td>0.752500</td>\n",
       "    </tr>\n",
       "    <tr>\n",
       "      <td>5</td>\n",
       "      <td>0</td>\n",
       "      <td>PA</td>\n",
       "      <td>0</td>\n",
       "      <td>1</td>\n",
       "      <td>897.0</td>\n",
       "      <td>2.5</td>\n",
       "      <td>2.0</td>\n",
       "      <td>209000.0</td>\n",
       "      <td>0.5</td>\n",
       "      <td>townhouse</td>\n",
       "      <td>philadelphia</td>\n",
       "      <td>1920.0</td>\n",
       "      <td>1</td>\n",
       "      <td>1</td>\n",
       "      <td>0</td>\n",
       "      <td>0.000000</td>\n",
       "      <td>0.000000</td>\n",
       "    </tr>\n",
       "    <tr>\n",
       "      <td>8</td>\n",
       "      <td>0</td>\n",
       "      <td>IA</td>\n",
       "      <td>0</td>\n",
       "      <td>1</td>\n",
       "      <td>3588.0</td>\n",
       "      <td>2.0</td>\n",
       "      <td>3.0</td>\n",
       "      <td>244900.0</td>\n",
       "      <td>0.0</td>\n",
       "      <td>single_family</td>\n",
       "      <td>other</td>\n",
       "      <td>1970.0</td>\n",
       "      <td>1</td>\n",
       "      <td>1</td>\n",
       "      <td>0</td>\n",
       "      <td>3.166667</td>\n",
       "      <td>6.350000</td>\n",
       "    </tr>\n",
       "    <tr>\n",
       "      <td>10</td>\n",
       "      <td>0</td>\n",
       "      <td>NY</td>\n",
       "      <td>0</td>\n",
       "      <td>1</td>\n",
       "      <td>1300.0</td>\n",
       "      <td>2.0</td>\n",
       "      <td>3.0</td>\n",
       "      <td>669000.0</td>\n",
       "      <td>0.5</td>\n",
       "      <td>cooperatives</td>\n",
       "      <td>other</td>\n",
       "      <td>1965.0</td>\n",
       "      <td>0</td>\n",
       "      <td>0</td>\n",
       "      <td>1</td>\n",
       "      <td>6.666667</td>\n",
       "      <td>1.516667</td>\n",
       "    </tr>\n",
       "    <tr>\n",
       "      <td>12</td>\n",
       "      <td>0</td>\n",
       "      <td>FL</td>\n",
       "      <td>1</td>\n",
       "      <td>1</td>\n",
       "      <td>2839.0</td>\n",
       "      <td>3.0</td>\n",
       "      <td>4.0</td>\n",
       "      <td>525000.0</td>\n",
       "      <td>0.5</td>\n",
       "      <td>single_family</td>\n",
       "      <td>other</td>\n",
       "      <td>1996.0</td>\n",
       "      <td>1</td>\n",
       "      <td>1</td>\n",
       "      <td>1</td>\n",
       "      <td>7.333333</td>\n",
       "      <td>2.040000</td>\n",
       "    </tr>\n",
       "    <tr>\n",
       "      <td>13</td>\n",
       "      <td>0</td>\n",
       "      <td>OR</td>\n",
       "      <td>0</td>\n",
       "      <td>1</td>\n",
       "      <td>1820.0</td>\n",
       "      <td>2.0</td>\n",
       "      <td>3.0</td>\n",
       "      <td>499900.0</td>\n",
       "      <td>0.5</td>\n",
       "      <td>single_family</td>\n",
       "      <td>other</td>\n",
       "      <td>2019.0</td>\n",
       "      <td>1</td>\n",
       "      <td>0</td>\n",
       "      <td>1</td>\n",
       "      <td>7.333333</td>\n",
       "      <td>1.100000</td>\n",
       "    </tr>\n",
       "    <tr>\n",
       "      <td>17</td>\n",
       "      <td>0</td>\n",
       "      <td>NY</td>\n",
       "      <td>0</td>\n",
       "      <td>1</td>\n",
       "      <td>3325.0</td>\n",
       "      <td>2.5</td>\n",
       "      <td>3.0</td>\n",
       "      <td>2650000.0</td>\n",
       "      <td>0.0</td>\n",
       "      <td>townhouse</td>\n",
       "      <td>new york</td>\n",
       "      <td>1899.0</td>\n",
       "      <td>0</td>\n",
       "      <td>0</td>\n",
       "      <td>0</td>\n",
       "      <td>2.500000</td>\n",
       "      <td>0.500000</td>\n",
       "    </tr>\n",
       "  </tbody>\n",
       "</table>\n",
       "</div>"
      ],
      "text/plain": [
       "    fireplace state  private_pool  mls    area  baths  beds     target  \\\n",
       "0           1    NC             0    1  2900.0    3.5   4.0   418000.0   \n",
       "1           0    WA             0    1  1947.0    3.0   3.0   310000.0   \n",
       "2           1    CA             1    1  3000.0    2.0   3.0  2895000.0   \n",
       "3           1    TX             0    1  6457.0    8.0   5.0  2395000.0   \n",
       "5           0    PA             0    1   897.0    2.5   2.0   209000.0   \n",
       "8           0    IA             0    1  3588.0    2.0   3.0   244900.0   \n",
       "10          0    NY             0    1  1300.0    2.0   3.0   669000.0   \n",
       "12          0    FL             1    1  2839.0    3.0   4.0   525000.0   \n",
       "13          0    OR             0    1  1820.0    2.0   3.0   499900.0   \n",
       "17          0    NY             0    1  3325.0    2.5   3.0  2650000.0   \n",
       "\n",
       "    status     type_house          city  year_built  heating  cooling  \\\n",
       "0      0.0  single_family         other      2019.0        1        0   \n",
       "1      0.5  single_family         other      2019.0        0        0   \n",
       "2      0.5  single_family   los angeles      1961.0        1        1   \n",
       "3      0.5  single_family        dallas      2006.0        1        1   \n",
       "5      0.5      townhouse  philadelphia      1920.0        1        1   \n",
       "8      0.0  single_family         other      1970.0        1        1   \n",
       "10     0.5   cooperatives         other      1965.0        0        0   \n",
       "12     0.5  single_family         other      1996.0        1        1   \n",
       "13     0.5  single_family         other      2019.0        1        0   \n",
       "17     0.0      townhouse      new york      1899.0        0        0   \n",
       "\n",
       "    parking  average_rating  average_distance  \n",
       "0         0        3.250000          5.537500  \n",
       "1         0        2.666667          1.326667  \n",
       "2         1        6.666667          1.960000  \n",
       "3         1        9.250000          0.752500  \n",
       "5         0        0.000000          0.000000  \n",
       "8         0        3.166667          6.350000  \n",
       "10        1        6.666667          1.516667  \n",
       "12        1        7.333333          2.040000  \n",
       "13        1        7.333333          1.100000  \n",
       "17        0        2.500000          0.500000  "
      ]
     },
     "execution_count": 36,
     "metadata": {},
     "output_type": "execute_result"
    }
   ],
   "source": [
    "df.head(10)"
   ]
  },
  {
   "cell_type": "code",
   "execution_count": 37,
   "metadata": {},
   "outputs": [
    {
     "name": "stdout",
     "output_type": "stream",
     "text": [
      "<class 'pandas.core.frame.DataFrame'>\n",
      "Int64Index: 234038 entries, 0 to 377182\n",
      "Data columns (total 17 columns):\n",
      "fireplace           234038 non-null int64\n",
      "state               234038 non-null object\n",
      "private_pool        234038 non-null int64\n",
      "mls                 234038 non-null int64\n",
      "area                234038 non-null float64\n",
      "baths               234038 non-null float64\n",
      "beds                234038 non-null float64\n",
      "target              234038 non-null float64\n",
      "status              234038 non-null float64\n",
      "type_house          234038 non-null object\n",
      "city                234038 non-null object\n",
      "year_built          234038 non-null float64\n",
      "heating             234038 non-null int64\n",
      "cooling             234038 non-null int64\n",
      "parking             234038 non-null int64\n",
      "average_rating      234038 non-null float64\n",
      "average_distance    234038 non-null float64\n",
      "dtypes: float64(8), int64(6), object(3)\n",
      "memory usage: 32.1+ MB\n"
     ]
    }
   ],
   "source": [
    "df.info()"
   ]
  },
  {
   "cell_type": "markdown",
   "metadata": {},
   "source": [
    "Мы видим, что в стобце \"state\" содержатся данные в формате object. Постараемся перевести эти показатели в числовой формат. Для этого дополнительно загрузим таблицу с информацией об уровене убийств по штатам (Материал из Википедии)."
   ]
  },
  {
   "cell_type": "code",
   "execution_count": 38,
   "metadata": {},
   "outputs": [
    {
     "data": {
      "text/html": [
       "<div>\n",
       "<style scoped>\n",
       "    .dataframe tbody tr th:only-of-type {\n",
       "        vertical-align: middle;\n",
       "    }\n",
       "\n",
       "    .dataframe tbody tr th {\n",
       "        vertical-align: top;\n",
       "    }\n",
       "\n",
       "    .dataframe thead th {\n",
       "        text-align: right;\n",
       "    }\n",
       "</style>\n",
       "<table border=\"1\" class=\"dataframe\">\n",
       "  <thead>\n",
       "    <tr style=\"text-align: right;\">\n",
       "      <th></th>\n",
       "      <th>state</th>\n",
       "      <th>killings</th>\n",
       "    </tr>\n",
       "  </thead>\n",
       "  <tbody>\n",
       "    <tr>\n",
       "      <td>0</td>\n",
       "      <td>ID</td>\n",
       "      <td>1.9</td>\n",
       "    </tr>\n",
       "    <tr>\n",
       "      <td>1</td>\n",
       "      <td>IA</td>\n",
       "      <td>3.3</td>\n",
       "    </tr>\n",
       "    <tr>\n",
       "      <td>2</td>\n",
       "      <td>AL</td>\n",
       "      <td>8.3</td>\n",
       "    </tr>\n",
       "    <tr>\n",
       "      <td>3</td>\n",
       "      <td>AK</td>\n",
       "      <td>8.4</td>\n",
       "    </tr>\n",
       "    <tr>\n",
       "      <td>4</td>\n",
       "      <td>AZ</td>\n",
       "      <td>5.9</td>\n",
       "    </tr>\n",
       "    <tr>\n",
       "      <td>5</td>\n",
       "      <td>AR</td>\n",
       "      <td>8.6</td>\n",
       "    </tr>\n",
       "    <tr>\n",
       "      <td>6</td>\n",
       "      <td>WY</td>\n",
       "      <td>2.6</td>\n",
       "    </tr>\n",
       "    <tr>\n",
       "      <td>7</td>\n",
       "      <td>WA</td>\n",
       "      <td>3.1</td>\n",
       "    </tr>\n",
       "    <tr>\n",
       "      <td>8</td>\n",
       "      <td>VT</td>\n",
       "      <td>2.2</td>\n",
       "    </tr>\n",
       "    <tr>\n",
       "      <td>9</td>\n",
       "      <td>VA</td>\n",
       "      <td>5.3</td>\n",
       "    </tr>\n",
       "    <tr>\n",
       "      <td>10</td>\n",
       "      <td>WI</td>\n",
       "      <td>3.2</td>\n",
       "    </tr>\n",
       "    <tr>\n",
       "      <td>11</td>\n",
       "      <td>HI</td>\n",
       "      <td>2.7</td>\n",
       "    </tr>\n",
       "    <tr>\n",
       "      <td>12</td>\n",
       "      <td>DE</td>\n",
       "      <td>5.6</td>\n",
       "    </tr>\n",
       "    <tr>\n",
       "      <td>13</td>\n",
       "      <td>GA</td>\n",
       "      <td>6.7</td>\n",
       "    </tr>\n",
       "    <tr>\n",
       "      <td>14</td>\n",
       "      <td>WV</td>\n",
       "      <td>4.7</td>\n",
       "    </tr>\n",
       "    <tr>\n",
       "      <td>15</td>\n",
       "      <td>IL</td>\n",
       "      <td>7.8</td>\n",
       "    </tr>\n",
       "    <tr>\n",
       "      <td>16</td>\n",
       "      <td>IN</td>\n",
       "      <td>6.0</td>\n",
       "    </tr>\n",
       "    <tr>\n",
       "      <td>17</td>\n",
       "      <td>CA</td>\n",
       "      <td>4.6</td>\n",
       "    </tr>\n",
       "    <tr>\n",
       "      <td>18</td>\n",
       "      <td>KS</td>\n",
       "      <td>5.5</td>\n",
       "    </tr>\n",
       "    <tr>\n",
       "      <td>19</td>\n",
       "      <td>KY</td>\n",
       "      <td>5.9</td>\n",
       "    </tr>\n",
       "    <tr>\n",
       "      <td>20</td>\n",
       "      <td>CO</td>\n",
       "      <td>3.9</td>\n",
       "    </tr>\n",
       "    <tr>\n",
       "      <td>21</td>\n",
       "      <td>CT</td>\n",
       "      <td>2.8</td>\n",
       "    </tr>\n",
       "    <tr>\n",
       "      <td>22</td>\n",
       "      <td>LA</td>\n",
       "      <td>12.4</td>\n",
       "    </tr>\n",
       "    <tr>\n",
       "      <td>23</td>\n",
       "      <td>MA</td>\n",
       "      <td>2.5</td>\n",
       "    </tr>\n",
       "    <tr>\n",
       "      <td>24</td>\n",
       "      <td>MN</td>\n",
       "      <td>2.0</td>\n",
       "    </tr>\n",
       "    <tr>\n",
       "      <td>25</td>\n",
       "      <td>MS</td>\n",
       "      <td>8.2</td>\n",
       "    </tr>\n",
       "    <tr>\n",
       "      <td>26</td>\n",
       "      <td>MO</td>\n",
       "      <td>9.8</td>\n",
       "    </tr>\n",
       "    <tr>\n",
       "      <td>27</td>\n",
       "      <td>MI</td>\n",
       "      <td>5.7</td>\n",
       "    </tr>\n",
       "    <tr>\n",
       "      <td>28</td>\n",
       "      <td>MT</td>\n",
       "      <td>3.9</td>\n",
       "    </tr>\n",
       "    <tr>\n",
       "      <td>29</td>\n",
       "      <td>ME</td>\n",
       "      <td>1.7</td>\n",
       "    </tr>\n",
       "    <tr>\n",
       "      <td>30</td>\n",
       "      <td>MD</td>\n",
       "      <td>9.0</td>\n",
       "    </tr>\n",
       "    <tr>\n",
       "      <td>31</td>\n",
       "      <td>NE</td>\n",
       "      <td>2.2</td>\n",
       "    </tr>\n",
       "    <tr>\n",
       "      <td>32</td>\n",
       "      <td>NV</td>\n",
       "      <td>9.1</td>\n",
       "    </tr>\n",
       "    <tr>\n",
       "      <td>33</td>\n",
       "      <td>NH</td>\n",
       "      <td>1.0</td>\n",
       "    </tr>\n",
       "    <tr>\n",
       "      <td>34</td>\n",
       "      <td>NJ</td>\n",
       "      <td>3.6</td>\n",
       "    </tr>\n",
       "    <tr>\n",
       "      <td>35</td>\n",
       "      <td>NY</td>\n",
       "      <td>2.8</td>\n",
       "    </tr>\n",
       "    <tr>\n",
       "      <td>36</td>\n",
       "      <td>NM</td>\n",
       "      <td>7.1</td>\n",
       "    </tr>\n",
       "    <tr>\n",
       "      <td>37</td>\n",
       "      <td>OH</td>\n",
       "      <td>6.1</td>\n",
       "    </tr>\n",
       "    <tr>\n",
       "      <td>38</td>\n",
       "      <td>OK</td>\n",
       "      <td>6.2</td>\n",
       "    </tr>\n",
       "    <tr>\n",
       "      <td>39</td>\n",
       "      <td>OR</td>\n",
       "      <td>2.5</td>\n",
       "    </tr>\n",
       "    <tr>\n",
       "      <td>40</td>\n",
       "      <td>PA</td>\n",
       "      <td>5.8</td>\n",
       "    </tr>\n",
       "    <tr>\n",
       "      <td>41</td>\n",
       "      <td>RI</td>\n",
       "      <td>1.9</td>\n",
       "    </tr>\n",
       "    <tr>\n",
       "      <td>42</td>\n",
       "      <td>ND</td>\n",
       "      <td>1.3</td>\n",
       "    </tr>\n",
       "    <tr>\n",
       "      <td>43</td>\n",
       "      <td>NC</td>\n",
       "      <td>5.8</td>\n",
       "    </tr>\n",
       "    <tr>\n",
       "      <td>44</td>\n",
       "      <td>TN</td>\n",
       "      <td>7.8</td>\n",
       "    </tr>\n",
       "    <tr>\n",
       "      <td>45</td>\n",
       "      <td>TX</td>\n",
       "      <td>5.0</td>\n",
       "    </tr>\n",
       "    <tr>\n",
       "      <td>46</td>\n",
       "      <td>FL</td>\n",
       "      <td>5.0</td>\n",
       "    </tr>\n",
       "    <tr>\n",
       "      <td>47</td>\n",
       "      <td>SD</td>\n",
       "      <td>2.9</td>\n",
       "    </tr>\n",
       "    <tr>\n",
       "      <td>48</td>\n",
       "      <td>SC</td>\n",
       "      <td>7.8</td>\n",
       "    </tr>\n",
       "    <tr>\n",
       "      <td>49</td>\n",
       "      <td>UT</td>\n",
       "      <td>2.4</td>\n",
       "    </tr>\n",
       "  </tbody>\n",
       "</table>\n",
       "</div>"
      ],
      "text/plain": [
       "   state  killings\n",
       "0     ID       1.9\n",
       "1     IA       3.3\n",
       "2     AL       8.3\n",
       "3     AK       8.4\n",
       "4     AZ       5.9\n",
       "5     AR       8.6\n",
       "6     WY       2.6\n",
       "7     WA       3.1\n",
       "8     VT       2.2\n",
       "9     VA       5.3\n",
       "10    WI       3.2\n",
       "11    HI       2.7\n",
       "12    DE       5.6\n",
       "13    GA       6.7\n",
       "14    WV       4.7\n",
       "15    IL       7.8\n",
       "16    IN       6.0\n",
       "17    CA       4.6\n",
       "18    KS       5.5\n",
       "19    KY       5.9\n",
       "20    CO       3.9\n",
       "21    CT       2.8\n",
       "22    LA      12.4\n",
       "23    MA       2.5\n",
       "24    MN       2.0\n",
       "25    MS       8.2\n",
       "26    MO       9.8\n",
       "27    MI       5.7\n",
       "28    MT       3.9\n",
       "29    ME       1.7\n",
       "30    MD       9.0\n",
       "31    NE       2.2\n",
       "32    NV       9.1\n",
       "33    NH       1.0\n",
       "34    NJ       3.6\n",
       "35    NY       2.8\n",
       "36    NM       7.1\n",
       "37    OH       6.1\n",
       "38    OK       6.2\n",
       "39    OR       2.5\n",
       "40    PA       5.8\n",
       "41    RI       1.9\n",
       "42    ND       1.3\n",
       "43    NC       5.8\n",
       "44    TN       7.8\n",
       "45    TX       5.0\n",
       "46    FL       5.0\n",
       "47    SD       2.9\n",
       "48    SC       7.8\n",
       "49    UT       2.4"
      ]
     },
     "execution_count": 38,
     "metadata": {},
     "output_type": "execute_result"
    }
   ],
   "source": [
    "killings = pd.read_excel('штаты.xlsx')\n",
    "killings"
   ]
  },
  {
   "cell_type": "code",
   "execution_count": 39,
   "metadata": {},
   "outputs": [],
   "source": [
    "df = df.merge(killings,on='state', how='left')"
   ]
  },
  {
   "cell_type": "code",
   "execution_count": 40,
   "metadata": {},
   "outputs": [
    {
     "data": {
      "text/html": [
       "<div>\n",
       "<style scoped>\n",
       "    .dataframe tbody tr th:only-of-type {\n",
       "        vertical-align: middle;\n",
       "    }\n",
       "\n",
       "    .dataframe tbody tr th {\n",
       "        vertical-align: top;\n",
       "    }\n",
       "\n",
       "    .dataframe thead th {\n",
       "        text-align: right;\n",
       "    }\n",
       "</style>\n",
       "<table border=\"1\" class=\"dataframe\">\n",
       "  <thead>\n",
       "    <tr style=\"text-align: right;\">\n",
       "      <th></th>\n",
       "      <th>fireplace</th>\n",
       "      <th>private_pool</th>\n",
       "      <th>mls</th>\n",
       "      <th>area</th>\n",
       "      <th>baths</th>\n",
       "      <th>beds</th>\n",
       "      <th>target</th>\n",
       "      <th>status</th>\n",
       "      <th>type_house</th>\n",
       "      <th>city</th>\n",
       "      <th>year_built</th>\n",
       "      <th>heating</th>\n",
       "      <th>cooling</th>\n",
       "      <th>parking</th>\n",
       "      <th>average_rating</th>\n",
       "      <th>average_distance</th>\n",
       "      <th>killings</th>\n",
       "    </tr>\n",
       "  </thead>\n",
       "  <tbody>\n",
       "    <tr>\n",
       "      <td>0</td>\n",
       "      <td>1</td>\n",
       "      <td>0</td>\n",
       "      <td>1</td>\n",
       "      <td>2900.0</td>\n",
       "      <td>3.5</td>\n",
       "      <td>4.0</td>\n",
       "      <td>418000.0</td>\n",
       "      <td>0.0</td>\n",
       "      <td>single_family</td>\n",
       "      <td>other</td>\n",
       "      <td>2019.0</td>\n",
       "      <td>1</td>\n",
       "      <td>0</td>\n",
       "      <td>0</td>\n",
       "      <td>3.250000</td>\n",
       "      <td>5.537500</td>\n",
       "      <td>5.8</td>\n",
       "    </tr>\n",
       "    <tr>\n",
       "      <td>1</td>\n",
       "      <td>0</td>\n",
       "      <td>0</td>\n",
       "      <td>1</td>\n",
       "      <td>1947.0</td>\n",
       "      <td>3.0</td>\n",
       "      <td>3.0</td>\n",
       "      <td>310000.0</td>\n",
       "      <td>0.5</td>\n",
       "      <td>single_family</td>\n",
       "      <td>other</td>\n",
       "      <td>2019.0</td>\n",
       "      <td>0</td>\n",
       "      <td>0</td>\n",
       "      <td>0</td>\n",
       "      <td>2.666667</td>\n",
       "      <td>1.326667</td>\n",
       "      <td>3.1</td>\n",
       "    </tr>\n",
       "    <tr>\n",
       "      <td>2</td>\n",
       "      <td>1</td>\n",
       "      <td>1</td>\n",
       "      <td>1</td>\n",
       "      <td>3000.0</td>\n",
       "      <td>2.0</td>\n",
       "      <td>3.0</td>\n",
       "      <td>2895000.0</td>\n",
       "      <td>0.5</td>\n",
       "      <td>single_family</td>\n",
       "      <td>los angeles</td>\n",
       "      <td>1961.0</td>\n",
       "      <td>1</td>\n",
       "      <td>1</td>\n",
       "      <td>1</td>\n",
       "      <td>6.666667</td>\n",
       "      <td>1.960000</td>\n",
       "      <td>4.6</td>\n",
       "    </tr>\n",
       "    <tr>\n",
       "      <td>3</td>\n",
       "      <td>1</td>\n",
       "      <td>0</td>\n",
       "      <td>1</td>\n",
       "      <td>6457.0</td>\n",
       "      <td>8.0</td>\n",
       "      <td>5.0</td>\n",
       "      <td>2395000.0</td>\n",
       "      <td>0.5</td>\n",
       "      <td>single_family</td>\n",
       "      <td>dallas</td>\n",
       "      <td>2006.0</td>\n",
       "      <td>1</td>\n",
       "      <td>1</td>\n",
       "      <td>1</td>\n",
       "      <td>9.250000</td>\n",
       "      <td>0.752500</td>\n",
       "      <td>5.0</td>\n",
       "    </tr>\n",
       "    <tr>\n",
       "      <td>4</td>\n",
       "      <td>0</td>\n",
       "      <td>0</td>\n",
       "      <td>1</td>\n",
       "      <td>897.0</td>\n",
       "      <td>2.5</td>\n",
       "      <td>2.0</td>\n",
       "      <td>209000.0</td>\n",
       "      <td>0.5</td>\n",
       "      <td>townhouse</td>\n",
       "      <td>philadelphia</td>\n",
       "      <td>1920.0</td>\n",
       "      <td>1</td>\n",
       "      <td>1</td>\n",
       "      <td>0</td>\n",
       "      <td>0.000000</td>\n",
       "      <td>0.000000</td>\n",
       "      <td>5.8</td>\n",
       "    </tr>\n",
       "    <tr>\n",
       "      <td>5</td>\n",
       "      <td>0</td>\n",
       "      <td>0</td>\n",
       "      <td>1</td>\n",
       "      <td>3588.0</td>\n",
       "      <td>2.0</td>\n",
       "      <td>3.0</td>\n",
       "      <td>244900.0</td>\n",
       "      <td>0.0</td>\n",
       "      <td>single_family</td>\n",
       "      <td>other</td>\n",
       "      <td>1970.0</td>\n",
       "      <td>1</td>\n",
       "      <td>1</td>\n",
       "      <td>0</td>\n",
       "      <td>3.166667</td>\n",
       "      <td>6.350000</td>\n",
       "      <td>3.3</td>\n",
       "    </tr>\n",
       "    <tr>\n",
       "      <td>6</td>\n",
       "      <td>0</td>\n",
       "      <td>0</td>\n",
       "      <td>1</td>\n",
       "      <td>1300.0</td>\n",
       "      <td>2.0</td>\n",
       "      <td>3.0</td>\n",
       "      <td>669000.0</td>\n",
       "      <td>0.5</td>\n",
       "      <td>cooperatives</td>\n",
       "      <td>other</td>\n",
       "      <td>1965.0</td>\n",
       "      <td>0</td>\n",
       "      <td>0</td>\n",
       "      <td>1</td>\n",
       "      <td>6.666667</td>\n",
       "      <td>1.516667</td>\n",
       "      <td>2.8</td>\n",
       "    </tr>\n",
       "    <tr>\n",
       "      <td>7</td>\n",
       "      <td>0</td>\n",
       "      <td>1</td>\n",
       "      <td>1</td>\n",
       "      <td>2839.0</td>\n",
       "      <td>3.0</td>\n",
       "      <td>4.0</td>\n",
       "      <td>525000.0</td>\n",
       "      <td>0.5</td>\n",
       "      <td>single_family</td>\n",
       "      <td>other</td>\n",
       "      <td>1996.0</td>\n",
       "      <td>1</td>\n",
       "      <td>1</td>\n",
       "      <td>1</td>\n",
       "      <td>7.333333</td>\n",
       "      <td>2.040000</td>\n",
       "      <td>5.0</td>\n",
       "    </tr>\n",
       "    <tr>\n",
       "      <td>8</td>\n",
       "      <td>0</td>\n",
       "      <td>0</td>\n",
       "      <td>1</td>\n",
       "      <td>1820.0</td>\n",
       "      <td>2.0</td>\n",
       "      <td>3.0</td>\n",
       "      <td>499900.0</td>\n",
       "      <td>0.5</td>\n",
       "      <td>single_family</td>\n",
       "      <td>other</td>\n",
       "      <td>2019.0</td>\n",
       "      <td>1</td>\n",
       "      <td>0</td>\n",
       "      <td>1</td>\n",
       "      <td>7.333333</td>\n",
       "      <td>1.100000</td>\n",
       "      <td>2.5</td>\n",
       "    </tr>\n",
       "    <tr>\n",
       "      <td>9</td>\n",
       "      <td>0</td>\n",
       "      <td>0</td>\n",
       "      <td>1</td>\n",
       "      <td>3325.0</td>\n",
       "      <td>2.5</td>\n",
       "      <td>3.0</td>\n",
       "      <td>2650000.0</td>\n",
       "      <td>0.0</td>\n",
       "      <td>townhouse</td>\n",
       "      <td>new york</td>\n",
       "      <td>1899.0</td>\n",
       "      <td>0</td>\n",
       "      <td>0</td>\n",
       "      <td>0</td>\n",
       "      <td>2.500000</td>\n",
       "      <td>0.500000</td>\n",
       "      <td>2.8</td>\n",
       "    </tr>\n",
       "  </tbody>\n",
       "</table>\n",
       "</div>"
      ],
      "text/plain": [
       "   fireplace  private_pool  mls    area  baths  beds     target  status  \\\n",
       "0          1             0    1  2900.0    3.5   4.0   418000.0     0.0   \n",
       "1          0             0    1  1947.0    3.0   3.0   310000.0     0.5   \n",
       "2          1             1    1  3000.0    2.0   3.0  2895000.0     0.5   \n",
       "3          1             0    1  6457.0    8.0   5.0  2395000.0     0.5   \n",
       "4          0             0    1   897.0    2.5   2.0   209000.0     0.5   \n",
       "5          0             0    1  3588.0    2.0   3.0   244900.0     0.0   \n",
       "6          0             0    1  1300.0    2.0   3.0   669000.0     0.5   \n",
       "7          0             1    1  2839.0    3.0   4.0   525000.0     0.5   \n",
       "8          0             0    1  1820.0    2.0   3.0   499900.0     0.5   \n",
       "9          0             0    1  3325.0    2.5   3.0  2650000.0     0.0   \n",
       "\n",
       "      type_house          city  year_built  heating  cooling  parking  \\\n",
       "0  single_family         other      2019.0        1        0        0   \n",
       "1  single_family         other      2019.0        0        0        0   \n",
       "2  single_family   los angeles      1961.0        1        1        1   \n",
       "3  single_family        dallas      2006.0        1        1        1   \n",
       "4      townhouse  philadelphia      1920.0        1        1        0   \n",
       "5  single_family         other      1970.0        1        1        0   \n",
       "6   cooperatives         other      1965.0        0        0        1   \n",
       "7  single_family         other      1996.0        1        1        1   \n",
       "8  single_family         other      2019.0        1        0        1   \n",
       "9      townhouse      new york      1899.0        0        0        0   \n",
       "\n",
       "   average_rating  average_distance  killings  \n",
       "0        3.250000          5.537500       5.8  \n",
       "1        2.666667          1.326667       3.1  \n",
       "2        6.666667          1.960000       4.6  \n",
       "3        9.250000          0.752500       5.0  \n",
       "4        0.000000          0.000000       5.8  \n",
       "5        3.166667          6.350000       3.3  \n",
       "6        6.666667          1.516667       2.8  \n",
       "7        7.333333          2.040000       5.0  \n",
       "8        7.333333          1.100000       2.5  \n",
       "9        2.500000          0.500000       2.8  "
      ]
     },
     "execution_count": 40,
     "metadata": {},
     "output_type": "execute_result"
    }
   ],
   "source": [
    "df.drop(['state'], axis = 1, inplace = True)\n",
    "df = df.dropna()\n",
    "df.head(10)"
   ]
  },
  {
   "cell_type": "code",
   "execution_count": 41,
   "metadata": {},
   "outputs": [
    {
     "name": "stdout",
     "output_type": "stream",
     "text": [
      "<class 'pandas.core.frame.DataFrame'>\n",
      "Int64Index: 230482 entries, 0 to 234037\n",
      "Data columns (total 17 columns):\n",
      "fireplace           230482 non-null int64\n",
      "private_pool        230482 non-null int64\n",
      "mls                 230482 non-null int64\n",
      "area                230482 non-null float64\n",
      "baths               230482 non-null float64\n",
      "beds                230482 non-null float64\n",
      "target              230482 non-null float64\n",
      "status              230482 non-null float64\n",
      "type_house          230482 non-null object\n",
      "city                230482 non-null object\n",
      "year_built          230482 non-null float64\n",
      "heating             230482 non-null int64\n",
      "cooling             230482 non-null int64\n",
      "parking             230482 non-null int64\n",
      "average_rating      230482 non-null float64\n",
      "average_distance    230482 non-null float64\n",
      "killings            230482 non-null float64\n",
      "dtypes: float64(9), int64(6), object(2)\n",
      "memory usage: 31.7+ MB\n"
     ]
    }
   ],
   "source": [
    "df.info()"
   ]
  },
  {
   "cell_type": "markdown",
   "metadata": {},
   "source": [
    "## Визуализация"
   ]
  },
  {
   "cell_type": "code",
   "execution_count": 42,
   "metadata": {},
   "outputs": [
    {
     "data": {
      "text/plain": [
       "<matplotlib.axes._subplots.AxesSubplot at 0x18c823540c8>"
      ]
     },
     "execution_count": 42,
     "metadata": {},
     "output_type": "execute_result"
    }
   ],
   "source": [
    "df.area.hist(bins=50)"
   ]
  },
  {
   "cell_type": "markdown",
   "metadata": {},
   "source": [
    "Мы видим, что большое количество площадей сосредоточено около 0. Посмотрим, сколько значений в выборке равно 0:"
   ]
  },
  {
   "cell_type": "code",
   "execution_count": 43,
   "metadata": {},
   "outputs": [
    {
     "data": {
      "text/plain": [
       "1267"
      ]
     },
     "execution_count": 43,
     "metadata": {},
     "output_type": "execute_result"
    }
   ],
   "source": [
    "df[df.area == 0].shape[0]"
   ]
  },
  {
   "cell_type": "markdown",
   "metadata": {},
   "source": [
    "Посмотрим эти данны поближе"
   ]
  },
  {
   "cell_type": "code",
   "execution_count": 44,
   "metadata": {},
   "outputs": [
    {
     "data": {
      "text/plain": [
       "<matplotlib.axes._subplots.AxesSubplot at 0x18c80290d08>"
      ]
     },
     "execution_count": 44,
     "metadata": {},
     "output_type": "execute_result"
    },
    {
     "data": {
      "image/png": "[encoded data removed]",
      "text/plain": [
       "<Figure size 432x288 with 1 Axes>"
      ]
     },
     "metadata": {
      "needs_background": "light"
     },
     "output_type": "display_data"
    }
   ],
   "source": [
    "df.area[df.area < 7000].hist(bins=200)"
   ]
  },
  {
   "cell_type": "code",
   "execution_count": 45,
   "metadata": {},
   "outputs": [
    {
     "data": {
      "text/plain": [
       "<matplotlib.axes._subplots.AxesSubplot at 0x18c82626208>"
      ]
     },
     "execution_count": 45,
     "metadata": {},
     "output_type": "execute_result"
    },
    {
     "data": {
      "image/png": "[encoded data removed]",
      "text/plain": [
       "<Figure size 432x288 with 1 Axes>"
      ]
     },
     "metadata": {
      "needs_background": "light"
     },
     "output_type": "display_data"
    }
   ],
   "source": [
    "df.area[df.area < 500].hist(bins=200)"
   ]
  },
  {
   "cell_type": "markdown",
   "metadata": {},
   "source": [
    "Непохоже, что здесь есть выбросы, но можно немного очистить данные, удалив значения меньше 200 и больше 7000"
   ]
  },
  {
   "cell_type": "code",
   "execution_count": 46,
   "metadata": {},
   "outputs": [],
   "source": [
    "df = df[(df['area']< 7000)]\n",
    "df = df[(df['area']> 200)]"
   ]
  },
  {
   "cell_type": "markdown",
   "metadata": {},
   "source": [
    "Аналогичным образом проверим распределение по остальным параметрам"
   ]
  },
  {
   "cell_type": "code",
   "execution_count": 47,
   "metadata": {},
   "outputs": [
    {
     "data": {
      "text/plain": [
       "<matplotlib.axes._subplots.AxesSubplot at 0x18c8266b3c8>"
      ]
     },
     "execution_count": 47,
     "metadata": {},
     "output_type": "execute_result"
    },
    {
     "data": {
      "image/png": "[encoded data removed]",
      "text/plain": [
       "<Figure size 432x288 with 1 Axes>"
      ]
     },
     "metadata": {
      "needs_background": "light"
     },
     "output_type": "display_data"
    }
   ],
   "source": [
    "df.beds[df.beds > 0].hist(bins=50)"
   ]
  },
  {
   "cell_type": "code",
   "execution_count": 48,
   "metadata": {},
   "outputs": [
    {
     "data": {
      "text/plain": [
       "417"
      ]
     },
     "execution_count": 48,
     "metadata": {},
     "output_type": "execute_result"
    }
   ],
   "source": [
    "df[df.beds == 0].shape[0]"
   ]
  },
  {
   "cell_type": "code",
   "execution_count": 49,
   "metadata": {},
   "outputs": [],
   "source": [
    "df = df[(df['beds']>0)]"
   ]
  },
  {
   "cell_type": "code",
   "execution_count": 50,
   "metadata": {},
   "outputs": [
    {
     "data": {
      "text/plain": [
       "<matplotlib.axes._subplots.AxesSubplot at 0x18c82cfa788>"
      ]
     },
     "execution_count": 50,
     "metadata": {},
     "output_type": "execute_result"
    },
    {
     "data": {
      "image/png": "[encoded data removed]",
      "text/plain": [
       "<Figure size 432x288 with 1 Axes>"
      ]
     },
     "metadata": {
      "needs_background": "light"
     },
     "output_type": "display_data"
    }
   ],
   "source": [
    "df.beds[df.beds<7].hist(bins=10)"
   ]
  },
  {
   "cell_type": "code",
   "execution_count": 51,
   "metadata": {},
   "outputs": [],
   "source": [
    "df = df[(df['beds']<7)]"
   ]
  },
  {
   "cell_type": "code",
   "execution_count": 52,
   "metadata": {},
   "outputs": [
    {
     "data": {
      "text/plain": [
       "<matplotlib.axes._subplots.AxesSubplot at 0x18c82d82688>"
      ]
     },
     "execution_count": 52,
     "metadata": {},
     "output_type": "execute_result"
    },
    {
     "data": {
      "image/png": "[encoded data removed]",
      "text/plain": [
       "<Figure size 432x288 with 1 Axes>"
      ]
     },
     "metadata": {
      "needs_background": "light"
     },
     "output_type": "display_data"
    }
   ],
   "source": [
    "df.baths.hist(bins=50)"
   ]
  },
  {
   "cell_type": "code",
   "execution_count": 53,
   "metadata": {},
   "outputs": [
    {
     "data": {
      "text/plain": [
       "<matplotlib.axes._subplots.AxesSubplot at 0x18c82e4a508>"
      ]
     },
     "execution_count": 53,
     "metadata": {},
     "output_type": "execute_result"
    },
    {
     "data": {
      "image/png": "[encoded data removed]",
      "text/plain": [
       "<Figure size 432x288 with 1 Axes>"
      ]
     },
     "metadata": {
      "needs_background": "light"
     },
     "output_type": "display_data"
    }
   ],
   "source": [
    "df.baths[df.baths<10].hist(bins=10)"
   ]
  },
  {
   "cell_type": "code",
   "execution_count": 54,
   "metadata": {},
   "outputs": [],
   "source": [
    "df = df[(df['baths']<8)]"
   ]
  },
  {
   "cell_type": "code",
   "execution_count": 55,
   "metadata": {},
   "outputs": [
    {
     "data": {
      "text/plain": [
       "<matplotlib.axes._subplots.AxesSubplot at 0x18c82e6bd08>"
      ]
     },
     "execution_count": 55,
     "metadata": {},
     "output_type": "execute_result"
    },
    {
     "data": {
      "image/png": "[encoded data removed]",
      "text/plain": [
       "<Figure size 432x288 with 1 Axes>"
      ]
     },
     "metadata": {
      "needs_background": "light"
     },
     "output_type": "display_data"
    }
   ],
   "source": [
    "df.year_built.hist(bins=50)"
   ]
  },
  {
   "cell_type": "code",
   "execution_count": 56,
   "metadata": {},
   "outputs": [
    {
     "data": {
      "text/plain": [
       "<matplotlib.axes._subplots.AxesSubplot at 0x18c82fa6e88>"
      ]
     },
     "execution_count": 56,
     "metadata": {},
     "output_type": "execute_result"
    },
    {
     "data": {
      "image/png": "[encoded data removed]",
      "text/plain": [
       "<Figure size 432x288 with 1 Axes>"
      ]
     },
     "metadata": {
      "needs_background": "light"
     },
     "output_type": "display_data"
    }
   ],
   "source": [
    "df.year_built[df.year_built<2020].hist(bins=10)"
   ]
  },
  {
   "cell_type": "code",
   "execution_count": 57,
   "metadata": {},
   "outputs": [],
   "source": [
    "df = df[(df['year_built']<2020)]"
   ]
  },
  {
   "cell_type": "code",
   "execution_count": 58,
   "metadata": {},
   "outputs": [
    {
     "data": {
      "text/plain": [
       "<matplotlib.axes._subplots.AxesSubplot at 0x18c8307fac8>"
      ]
     },
     "execution_count": 58,
     "metadata": {},
     "output_type": "execute_result"
    },
    {
     "data": {
      "image/png": "[encoded data removed]",
      "text/plain": [
       "<Figure size 432x288 with 1 Axes>"
      ]
     },
     "metadata": {
      "needs_background": "light"
     },
     "output_type": "display_data"
    }
   ],
   "source": [
    "df.year_built[df.year_built<1950].hist(bins=10)"
   ]
  },
  {
   "cell_type": "code",
   "execution_count": 59,
   "metadata": {},
   "outputs": [],
   "source": [
    "df = df[(df['year_built']>1900)]"
   ]
  },
  {
   "cell_type": "code",
   "execution_count": 60,
   "metadata": {},
   "outputs": [
    {
     "data": {
      "text/plain": [
       "<matplotlib.axes._subplots.AxesSubplot at 0x18c830f9f08>"
      ]
     },
     "execution_count": 60,
     "metadata": {},
     "output_type": "execute_result"
    },
    {
     "data": {
      "image/png": "[encoded data removed]",
      "text/plain": [
       "<Figure size 432x288 with 1 Axes>"
      ]
     },
     "metadata": {
      "needs_background": "light"
     },
     "output_type": "display_data"
    }
   ],
   "source": [
    "df.year_built.hist(bins=50)"
   ]
  },
  {
   "cell_type": "code",
   "execution_count": 61,
   "metadata": {},
   "outputs": [
    {
     "data": {
      "text/plain": [
       "<matplotlib.axes._subplots.AxesSubplot at 0x18c83205bc8>"
      ]
     },
     "execution_count": 61,
     "metadata": {},
     "output_type": "execute_result"
    },
    {
     "data": {
      "image/png": "[encoded data removed]",
      "text/plain": [
       "<Figure size 432x288 with 1 Axes>"
      ]
     },
     "metadata": {
      "needs_background": "light"
     },
     "output_type": "display_data"
    }
   ],
   "source": [
    "df.average_rating.hist(bins=50)"
   ]
  },
  {
   "cell_type": "code",
   "execution_count": 62,
   "metadata": {},
   "outputs": [
    {
     "data": {
      "text/plain": [
       "<matplotlib.axes._subplots.AxesSubplot at 0x18c83220408>"
      ]
     },
     "execution_count": 62,
     "metadata": {},
     "output_type": "execute_result"
    },
    {
     "data": {
      "image/png": "[encoded data removed]",
      "text/plain": [
       "<Figure size 432x288 with 1 Axes>"
      ]
     },
     "metadata": {
      "needs_background": "light"
     },
     "output_type": "display_data"
    }
   ],
   "source": [
    "df.average_distance.hist(bins=50)"
   ]
  },
  {
   "cell_type": "code",
   "execution_count": 63,
   "metadata": {},
   "outputs": [
    {
     "data": {
      "text/plain": [
       "<matplotlib.axes._subplots.AxesSubplot at 0x18c82eb0e08>"
      ]
     },
     "execution_count": 63,
     "metadata": {},
     "output_type": "execute_result"
    },
    {
     "data": {
      "image/png": "[encoded data removed]",
      "text/plain": [
       "<Figure size 432x288 with 1 Axes>"
      ]
     },
     "metadata": {
      "needs_background": "light"
     },
     "output_type": "display_data"
    }
   ],
   "source": [
    "df.average_distance[df.average_distance<20].hist(bins=10)"
   ]
  },
  {
   "cell_type": "code",
   "execution_count": 64,
   "metadata": {},
   "outputs": [],
   "source": [
    "df = df[(df['average_distance']<20)]"
   ]
  },
  {
   "cell_type": "code",
   "execution_count": 65,
   "metadata": {},
   "outputs": [
    {
     "data": {
      "text/plain": [
       "<matplotlib.axes._subplots.AxesSubplot at 0x18c83676b48>"
      ]
     },
     "execution_count": 65,
     "metadata": {},
     "output_type": "execute_result"
    },
    {
     "data": {
      "image/png": "[encoded data removed]",
      "text/plain": [
       "<Figure size 432x288 with 1 Axes>"
      ]
     },
     "metadata": {
      "needs_background": "light"
     },
     "output_type": "display_data"
    }
   ],
   "source": [
    "np.log(df.killings[df.killings > 0]).hist(bins=50)"
   ]
  },
  {
   "cell_type": "markdown",
   "metadata": {},
   "source": [
    "import seaborn as sns\n",
    "\n",
    "corr = df.corr()\n",
    "\n",
    "cmap = sns.diverging_palette(5, 250, as_cmap=True)\n",
    "\n",
    "def magnify():\n",
    "    return [dict(selector=\"th\",\n",
    "                 props=[(\"font-size\", \"7pt\")]),\n",
    "            dict(selector=\"td\",\n",
    "                 props=[('padding', \"0em 0em\")]),\n",
    "            dict(selector=\"th:hover\",\n",
    "                 props=[(\"font-size\", \"12pt\")]),\n",
    "            dict(selector=\"tr:hover td:hover\",\n",
    "                 props=[('max-width', '200px'),\n",
    "                        ('font-size', '12pt')])\n",
    "]\n",
    "\n",
    "corr.style.background_gradient(cmap, axis=1)\\\n",
    "    .set_properties(**{'max-width': '80px', 'font-size': '10pt'})\\\n",
    "    .set_caption(\"Hover to magify\")\\\n",
    "    .set_precision(2)\\\n",
    "    .set_table_styles(magnify())"
   ]
  },
  {
   "cell_type": "markdown",
   "metadata": {},
   "source": [
    "Из данного графика мы видим, что в полученной модели у нас отсутствуют данные с высокой корреляцией"
   ]
  },
  {
   "cell_type": "markdown",
   "metadata": {},
   "source": [
    "## Мы получили датасет, готовый к дальнейшему анализу"
   ]
  },
  {
   "cell_type": "code",
   "execution_count": 67,
   "metadata": {},
   "outputs": [
    {
     "data": {
      "text/html": [
       "<div>\n",
       "<style scoped>\n",
       "    .dataframe tbody tr th:only-of-type {\n",
       "        vertical-align: middle;\n",
       "    }\n",
       "\n",
       "    .dataframe tbody tr th {\n",
       "        vertical-align: top;\n",
       "    }\n",
       "\n",
       "    .dataframe thead th {\n",
       "        text-align: right;\n",
       "    }\n",
       "</style>\n",
       "<table border=\"1\" class=\"dataframe\">\n",
       "  <thead>\n",
       "    <tr style=\"text-align: right;\">\n",
       "      <th></th>\n",
       "      <th>fireplace</th>\n",
       "      <th>private_pool</th>\n",
       "      <th>mls</th>\n",
       "      <th>area</th>\n",
       "      <th>baths</th>\n",
       "      <th>beds</th>\n",
       "      <th>target</th>\n",
       "      <th>status</th>\n",
       "      <th>type_house</th>\n",
       "      <th>city</th>\n",
       "      <th>year_built</th>\n",
       "      <th>heating</th>\n",
       "      <th>cooling</th>\n",
       "      <th>parking</th>\n",
       "      <th>average_rating</th>\n",
       "      <th>average_distance</th>\n",
       "      <th>killings</th>\n",
       "    </tr>\n",
       "  </thead>\n",
       "  <tbody>\n",
       "    <tr>\n",
       "      <td>0</td>\n",
       "      <td>1</td>\n",
       "      <td>0</td>\n",
       "      <td>1</td>\n",
       "      <td>2900.0</td>\n",
       "      <td>3.5</td>\n",
       "      <td>4.0</td>\n",
       "      <td>418000.0</td>\n",
       "      <td>0.0</td>\n",
       "      <td>single_family</td>\n",
       "      <td>other</td>\n",
       "      <td>2019.0</td>\n",
       "      <td>1</td>\n",
       "      <td>0</td>\n",
       "      <td>0</td>\n",
       "      <td>3.250000</td>\n",
       "      <td>5.537500</td>\n",
       "      <td>5.8</td>\n",
       "    </tr>\n",
       "    <tr>\n",
       "      <td>1</td>\n",
       "      <td>0</td>\n",
       "      <td>0</td>\n",
       "      <td>1</td>\n",
       "      <td>1947.0</td>\n",
       "      <td>3.0</td>\n",
       "      <td>3.0</td>\n",
       "      <td>310000.0</td>\n",
       "      <td>0.5</td>\n",
       "      <td>single_family</td>\n",
       "      <td>other</td>\n",
       "      <td>2019.0</td>\n",
       "      <td>0</td>\n",
       "      <td>0</td>\n",
       "      <td>0</td>\n",
       "      <td>2.666667</td>\n",
       "      <td>1.326667</td>\n",
       "      <td>3.1</td>\n",
       "    </tr>\n",
       "    <tr>\n",
       "      <td>2</td>\n",
       "      <td>1</td>\n",
       "      <td>1</td>\n",
       "      <td>1</td>\n",
       "      <td>3000.0</td>\n",
       "      <td>2.0</td>\n",
       "      <td>3.0</td>\n",
       "      <td>2895000.0</td>\n",
       "      <td>0.5</td>\n",
       "      <td>single_family</td>\n",
       "      <td>los angeles</td>\n",
       "      <td>1961.0</td>\n",
       "      <td>1</td>\n",
       "      <td>1</td>\n",
       "      <td>1</td>\n",
       "      <td>6.666667</td>\n",
       "      <td>1.960000</td>\n",
       "      <td>4.6</td>\n",
       "    </tr>\n",
       "    <tr>\n",
       "      <td>4</td>\n",
       "      <td>0</td>\n",
       "      <td>0</td>\n",
       "      <td>1</td>\n",
       "      <td>897.0</td>\n",
       "      <td>2.5</td>\n",
       "      <td>2.0</td>\n",
       "      <td>209000.0</td>\n",
       "      <td>0.5</td>\n",
       "      <td>townhouse</td>\n",
       "      <td>philadelphia</td>\n",
       "      <td>1920.0</td>\n",
       "      <td>1</td>\n",
       "      <td>1</td>\n",
       "      <td>0</td>\n",
       "      <td>0.000000</td>\n",
       "      <td>0.000000</td>\n",
       "      <td>5.8</td>\n",
       "    </tr>\n",
       "    <tr>\n",
       "      <td>5</td>\n",
       "      <td>0</td>\n",
       "      <td>0</td>\n",
       "      <td>1</td>\n",
       "      <td>3588.0</td>\n",
       "      <td>2.0</td>\n",
       "      <td>3.0</td>\n",
       "      <td>244900.0</td>\n",
       "      <td>0.0</td>\n",
       "      <td>single_family</td>\n",
       "      <td>other</td>\n",
       "      <td>1970.0</td>\n",
       "      <td>1</td>\n",
       "      <td>1</td>\n",
       "      <td>0</td>\n",
       "      <td>3.166667</td>\n",
       "      <td>6.350000</td>\n",
       "      <td>3.3</td>\n",
       "    </tr>\n",
       "    <tr>\n",
       "      <td>6</td>\n",
       "      <td>0</td>\n",
       "      <td>0</td>\n",
       "      <td>1</td>\n",
       "      <td>1300.0</td>\n",
       "      <td>2.0</td>\n",
       "      <td>3.0</td>\n",
       "      <td>669000.0</td>\n",
       "      <td>0.5</td>\n",
       "      <td>cooperatives</td>\n",
       "      <td>other</td>\n",
       "      <td>1965.0</td>\n",
       "      <td>0</td>\n",
       "      <td>0</td>\n",
       "      <td>1</td>\n",
       "      <td>6.666667</td>\n",
       "      <td>1.516667</td>\n",
       "      <td>2.8</td>\n",
       "    </tr>\n",
       "    <tr>\n",
       "      <td>7</td>\n",
       "      <td>0</td>\n",
       "      <td>1</td>\n",
       "      <td>1</td>\n",
       "      <td>2839.0</td>\n",
       "      <td>3.0</td>\n",
       "      <td>4.0</td>\n",
       "      <td>525000.0</td>\n",
       "      <td>0.5</td>\n",
       "      <td>single_family</td>\n",
       "      <td>other</td>\n",
       "      <td>1996.0</td>\n",
       "      <td>1</td>\n",
       "      <td>1</td>\n",
       "      <td>1</td>\n",
       "      <td>7.333333</td>\n",
       "      <td>2.040000</td>\n",
       "      <td>5.0</td>\n",
       "    </tr>\n",
       "    <tr>\n",
       "      <td>8</td>\n",
       "      <td>0</td>\n",
       "      <td>0</td>\n",
       "      <td>1</td>\n",
       "      <td>1820.0</td>\n",
       "      <td>2.0</td>\n",
       "      <td>3.0</td>\n",
       "      <td>499900.0</td>\n",
       "      <td>0.5</td>\n",
       "      <td>single_family</td>\n",
       "      <td>other</td>\n",
       "      <td>2019.0</td>\n",
       "      <td>1</td>\n",
       "      <td>0</td>\n",
       "      <td>1</td>\n",
       "      <td>7.333333</td>\n",
       "      <td>1.100000</td>\n",
       "      <td>2.5</td>\n",
       "    </tr>\n",
       "    <tr>\n",
       "      <td>10</td>\n",
       "      <td>1</td>\n",
       "      <td>0</td>\n",
       "      <td>1</td>\n",
       "      <td>3080.0</td>\n",
       "      <td>4.0</td>\n",
       "      <td>4.0</td>\n",
       "      <td>365000.0</td>\n",
       "      <td>0.5</td>\n",
       "      <td>single_family</td>\n",
       "      <td>other</td>\n",
       "      <td>2016.0</td>\n",
       "      <td>1</td>\n",
       "      <td>1</td>\n",
       "      <td>1</td>\n",
       "      <td>7.000000</td>\n",
       "      <td>1.935000</td>\n",
       "      <td>5.0</td>\n",
       "    </tr>\n",
       "    <tr>\n",
       "      <td>11</td>\n",
       "      <td>0</td>\n",
       "      <td>1</td>\n",
       "      <td>1</td>\n",
       "      <td>1612.0</td>\n",
       "      <td>4.0</td>\n",
       "      <td>4.0</td>\n",
       "      <td>626000.0</td>\n",
       "      <td>0.5</td>\n",
       "      <td>multi_family</td>\n",
       "      <td>fort lauderdale</td>\n",
       "      <td>1954.0</td>\n",
       "      <td>1</td>\n",
       "      <td>1</td>\n",
       "      <td>0</td>\n",
       "      <td>5.000000</td>\n",
       "      <td>0.430000</td>\n",
       "      <td>5.0</td>\n",
       "    </tr>\n",
       "  </tbody>\n",
       "</table>\n",
       "</div>"
      ],
      "text/plain": [
       "    fireplace  private_pool  mls    area  baths  beds     target  status  \\\n",
       "0           1             0    1  2900.0    3.5   4.0   418000.0     0.0   \n",
       "1           0             0    1  1947.0    3.0   3.0   310000.0     0.5   \n",
       "2           1             1    1  3000.0    2.0   3.0  2895000.0     0.5   \n",
       "4           0             0    1   897.0    2.5   2.0   209000.0     0.5   \n",
       "5           0             0    1  3588.0    2.0   3.0   244900.0     0.0   \n",
       "6           0             0    1  1300.0    2.0   3.0   669000.0     0.5   \n",
       "7           0             1    1  2839.0    3.0   4.0   525000.0     0.5   \n",
       "8           0             0    1  1820.0    2.0   3.0   499900.0     0.5   \n",
       "10          1             0    1  3080.0    4.0   4.0   365000.0     0.5   \n",
       "11          0             1    1  1612.0    4.0   4.0   626000.0     0.5   \n",
       "\n",
       "       type_house             city  year_built  heating  cooling  parking  \\\n",
       "0   single_family            other      2019.0        1        0        0   \n",
       "1   single_family            other      2019.0        0        0        0   \n",
       "2   single_family      los angeles      1961.0        1        1        1   \n",
       "4       townhouse     philadelphia      1920.0        1        1        0   \n",
       "5   single_family            other      1970.0        1        1        0   \n",
       "6    cooperatives            other      1965.0        0        0        1   \n",
       "7   single_family            other      1996.0        1        1        1   \n",
       "8   single_family            other      2019.0        1        0        1   \n",
       "10  single_family            other      2016.0        1        1        1   \n",
       "11   multi_family  fort lauderdale      1954.0        1        1        0   \n",
       "\n",
       "    average_rating  average_distance  killings  \n",
       "0         3.250000          5.537500       5.8  \n",
       "1         2.666667          1.326667       3.1  \n",
       "2         6.666667          1.960000       4.6  \n",
       "4         0.000000          0.000000       5.8  \n",
       "5         3.166667          6.350000       3.3  \n",
       "6         6.666667          1.516667       2.8  \n",
       "7         7.333333          2.040000       5.0  \n",
       "8         7.333333          1.100000       2.5  \n",
       "10        7.000000          1.935000       5.0  \n",
       "11        5.000000          0.430000       5.0  "
      ]
     },
     "execution_count": 67,
     "metadata": {},
     "output_type": "execute_result"
    }
   ],
   "source": [
    "df.head(10)"
   ]
  },
  {
   "cell_type": "code",
   "execution_count": 68,
   "metadata": {},
   "outputs": [
    {
     "name": "stdout",
     "output_type": "stream",
     "text": [
      "<class 'pandas.core.frame.DataFrame'>\n",
      "Int64Index: 209615 entries, 0 to 234037\n",
      "Data columns (total 17 columns):\n",
      "fireplace           209615 non-null int64\n",
      "private_pool        209615 non-null int64\n",
      "mls                 209615 non-null int64\n",
      "area                209615 non-null float64\n",
      "baths               209615 non-null float64\n",
      "beds                209615 non-null float64\n",
      "target              209615 non-null float64\n",
      "status              209615 non-null float64\n",
      "type_house          209615 non-null object\n",
      "city                209615 non-null object\n",
      "year_built          209615 non-null float64\n",
      "heating             209615 non-null int64\n",
      "cooling             209615 non-null int64\n",
      "parking             209615 non-null int64\n",
      "average_rating      209615 non-null float64\n",
      "average_distance    209615 non-null float64\n",
      "killings            209615 non-null float64\n",
      "dtypes: float64(9), int64(6), object(2)\n",
      "memory usage: 28.8+ MB\n"
     ]
    }
   ],
   "source": [
    "df.info()"
   ]
  },
  {
   "cell_type": "code",
   "execution_count": 69,
   "metadata": {},
   "outputs": [
    {
     "data": {
      "text/html": [
       "<div>\n",
       "<style scoped>\n",
       "    .dataframe tbody tr th:only-of-type {\n",
       "        vertical-align: middle;\n",
       "    }\n",
       "\n",
       "    .dataframe tbody tr th {\n",
       "        vertical-align: top;\n",
       "    }\n",
       "\n",
       "    .dataframe thead th {\n",
       "        text-align: right;\n",
       "    }\n",
       "</style>\n",
       "<table border=\"1\" class=\"dataframe\">\n",
       "  <thead>\n",
       "    <tr style=\"text-align: right;\">\n",
       "      <th></th>\n",
       "      <th>fireplace</th>\n",
       "      <th>private_pool</th>\n",
       "      <th>mls</th>\n",
       "      <th>area</th>\n",
       "      <th>baths</th>\n",
       "      <th>beds</th>\n",
       "      <th>target</th>\n",
       "      <th>status</th>\n",
       "      <th>year_built</th>\n",
       "      <th>heating</th>\n",
       "      <th>cooling</th>\n",
       "      <th>parking</th>\n",
       "      <th>average_rating</th>\n",
       "      <th>average_distance</th>\n",
       "      <th>killings</th>\n",
       "    </tr>\n",
       "  </thead>\n",
       "  <tbody>\n",
       "    <tr>\n",
       "      <td>count</td>\n",
       "      <td>209615.000000</td>\n",
       "      <td>209615.000000</td>\n",
       "      <td>209615.000000</td>\n",
       "      <td>209615.000000</td>\n",
       "      <td>209615.000000</td>\n",
       "      <td>209615.000000</td>\n",
       "      <td>2.096150e+05</td>\n",
       "      <td>209615.000000</td>\n",
       "      <td>209615.000000</td>\n",
       "      <td>209615.000000</td>\n",
       "      <td>209615.000000</td>\n",
       "      <td>209615.000000</td>\n",
       "      <td>209615.000000</td>\n",
       "      <td>209615.000000</td>\n",
       "      <td>209615.000000</td>\n",
       "    </tr>\n",
       "    <tr>\n",
       "      <td>mean</td>\n",
       "      <td>0.366539</td>\n",
       "      <td>0.144656</td>\n",
       "      <td>0.935744</td>\n",
       "      <td>2039.751816</td>\n",
       "      <td>2.659175</td>\n",
       "      <td>3.236424</td>\n",
       "      <td>5.448481e+05</td>\n",
       "      <td>0.409138</td>\n",
       "      <td>1980.122186</td>\n",
       "      <td>0.860826</td>\n",
       "      <td>0.784104</td>\n",
       "      <td>0.692107</td>\n",
       "      <td>4.665664</td>\n",
       "      <td>2.535084</td>\n",
       "      <td>5.237793</td>\n",
       "    </tr>\n",
       "    <tr>\n",
       "      <td>std</td>\n",
       "      <td>0.481860</td>\n",
       "      <td>0.351754</td>\n",
       "      <td>0.245209</td>\n",
       "      <td>1085.658484</td>\n",
       "      <td>0.958533</td>\n",
       "      <td>0.934049</td>\n",
       "      <td>1.039979e+06</td>\n",
       "      <td>0.234706</td>\n",
       "      <td>31.218094</td>\n",
       "      <td>0.346129</td>\n",
       "      <td>0.411443</td>\n",
       "      <td>0.461623</td>\n",
       "      <td>1.982247</td>\n",
       "      <td>2.569994</td>\n",
       "      <td>1.437719</td>\n",
       "    </tr>\n",
       "    <tr>\n",
       "      <td>min</td>\n",
       "      <td>0.000000</td>\n",
       "      <td>0.000000</td>\n",
       "      <td>0.000000</td>\n",
       "      <td>205.000000</td>\n",
       "      <td>0.000000</td>\n",
       "      <td>1.000000</td>\n",
       "      <td>1.000000e+00</td>\n",
       "      <td>0.000000</td>\n",
       "      <td>1901.000000</td>\n",
       "      <td>0.000000</td>\n",
       "      <td>0.000000</td>\n",
       "      <td>0.000000</td>\n",
       "      <td>0.000000</td>\n",
       "      <td>0.000000</td>\n",
       "      <td>1.700000</td>\n",
       "    </tr>\n",
       "    <tr>\n",
       "      <td>25%</td>\n",
       "      <td>0.000000</td>\n",
       "      <td>0.000000</td>\n",
       "      <td>1.000000</td>\n",
       "      <td>1265.000000</td>\n",
       "      <td>2.000000</td>\n",
       "      <td>3.000000</td>\n",
       "      <td>1.999500e+05</td>\n",
       "      <td>0.500000</td>\n",
       "      <td>1957.000000</td>\n",
       "      <td>1.000000</td>\n",
       "      <td>1.000000</td>\n",
       "      <td>0.000000</td>\n",
       "      <td>3.166667</td>\n",
       "      <td>1.006667</td>\n",
       "      <td>5.000000</td>\n",
       "    </tr>\n",
       "    <tr>\n",
       "      <td>50%</td>\n",
       "      <td>0.000000</td>\n",
       "      <td>0.000000</td>\n",
       "      <td>1.000000</td>\n",
       "      <td>1776.000000</td>\n",
       "      <td>2.500000</td>\n",
       "      <td>3.000000</td>\n",
       "      <td>3.259990e+05</td>\n",
       "      <td>0.500000</td>\n",
       "      <td>1985.000000</td>\n",
       "      <td>1.000000</td>\n",
       "      <td>1.000000</td>\n",
       "      <td>1.000000</td>\n",
       "      <td>4.500000</td>\n",
       "      <td>1.662500</td>\n",
       "      <td>5.000000</td>\n",
       "    </tr>\n",
       "    <tr>\n",
       "      <td>75%</td>\n",
       "      <td>1.000000</td>\n",
       "      <td>0.000000</td>\n",
       "      <td>1.000000</td>\n",
       "      <td>2516.000000</td>\n",
       "      <td>3.000000</td>\n",
       "      <td>4.000000</td>\n",
       "      <td>5.700000e+05</td>\n",
       "      <td>0.500000</td>\n",
       "      <td>2006.000000</td>\n",
       "      <td>1.000000</td>\n",
       "      <td>1.000000</td>\n",
       "      <td>1.000000</td>\n",
       "      <td>6.000000</td>\n",
       "      <td>2.936667</td>\n",
       "      <td>5.800000</td>\n",
       "    </tr>\n",
       "    <tr>\n",
       "      <td>max</td>\n",
       "      <td>1.000000</td>\n",
       "      <td>1.000000</td>\n",
       "      <td>1.000000</td>\n",
       "      <td>6999.000000</td>\n",
       "      <td>7.500000</td>\n",
       "      <td>6.000000</td>\n",
       "      <td>1.100000e+08</td>\n",
       "      <td>1.000000</td>\n",
       "      <td>2019.000000</td>\n",
       "      <td>1.000000</td>\n",
       "      <td>1.000000</td>\n",
       "      <td>1.000000</td>\n",
       "      <td>10.000000</td>\n",
       "      <td>19.966667</td>\n",
       "      <td>9.800000</td>\n",
       "    </tr>\n",
       "  </tbody>\n",
       "</table>\n",
       "</div>"
      ],
      "text/plain": [
       "           fireplace   private_pool            mls           area  \\\n",
       "count  209615.000000  209615.000000  209615.000000  209615.000000   \n",
       "mean        0.366539       0.144656       0.935744    2039.751816   \n",
       "std         0.481860       0.351754       0.245209    1085.658484   \n",
       "min         0.000000       0.000000       0.000000     205.000000   \n",
       "25%         0.000000       0.000000       1.000000    1265.000000   \n",
       "50%         0.000000       0.000000       1.000000    1776.000000   \n",
       "75%         1.000000       0.000000       1.000000    2516.000000   \n",
       "max         1.000000       1.000000       1.000000    6999.000000   \n",
       "\n",
       "               baths           beds        target         status  \\\n",
       "count  209615.000000  209615.000000  2.096150e+05  209615.000000   \n",
       "mean        2.659175       3.236424  5.448481e+05       0.409138   \n",
       "std         0.958533       0.934049  1.039979e+06       0.234706   \n",
       "min         0.000000       1.000000  1.000000e+00       0.000000   \n",
       "25%         2.000000       3.000000  1.999500e+05       0.500000   \n",
       "50%         2.500000       3.000000  3.259990e+05       0.500000   \n",
       "75%         3.000000       4.000000  5.700000e+05       0.500000   \n",
       "max         7.500000       6.000000  1.100000e+08       1.000000   \n",
       "\n",
       "          year_built        heating        cooling        parking  \\\n",
       "count  209615.000000  209615.000000  209615.000000  209615.000000   \n",
       "mean     1980.122186       0.860826       0.784104       0.692107   \n",
       "std        31.218094       0.346129       0.411443       0.461623   \n",
       "min      1901.000000       0.000000       0.000000       0.000000   \n",
       "25%      1957.000000       1.000000       1.000000       0.000000   \n",
       "50%      1985.000000       1.000000       1.000000       1.000000   \n",
       "75%      2006.000000       1.000000       1.000000       1.000000   \n",
       "max      2019.000000       1.000000       1.000000       1.000000   \n",
       "\n",
       "       average_rating  average_distance       killings  \n",
       "count   209615.000000     209615.000000  209615.000000  \n",
       "mean         4.665664          2.535084       5.237793  \n",
       "std          1.982247          2.569994       1.437719  \n",
       "min          0.000000          0.000000       1.700000  \n",
       "25%          3.166667          1.006667       5.000000  \n",
       "50%          4.500000          1.662500       5.000000  \n",
       "75%          6.000000          2.936667       5.800000  \n",
       "max         10.000000         19.966667       9.800000  "
      ]
     },
     "execution_count": 69,
     "metadata": {},
     "output_type": "execute_result"
    }
   ],
   "source": [
    "df.describe()"
   ]
  },
  {
   "cell_type": "markdown",
   "metadata": {},
   "source": [
    "<img src=\"https://vgif.ru/gifs/145/vgif-ru-19285.gif\">"
   ]
  },
  {
   "cell_type": "markdown",
   "metadata": {},
   "source": [
    "## Разработка модели"
   ]
  },
  {
   "cell_type": "code",
   "execution_count": 70,
   "metadata": {},
   "outputs": [],
   "source": [
    "from sklearn.metrics import mean_squared_error, f1_score, accuracy_score, roc_curve, roc_auc_score\n",
    "from sklearn.model_selection import train_test_split\n",
    "from matplotlib import pyplot as plt"
   ]
  },
  {
   "cell_type": "markdown",
   "metadata": {},
   "source": [
    "Разабьём данные на признак и целевую переменную"
   ]
  },
  {
   "cell_type": "code",
   "execution_count": 79,
   "metadata": {},
   "outputs": [
    {
     "data": {
      "text/html": [
       "<div>\n",
       "<style scoped>\n",
       "    .dataframe tbody tr th:only-of-type {\n",
       "        vertical-align: middle;\n",
       "    }\n",
       "\n",
       "    .dataframe tbody tr th {\n",
       "        vertical-align: top;\n",
       "    }\n",
       "\n",
       "    .dataframe thead th {\n",
       "        text-align: right;\n",
       "    }\n",
       "</style>\n",
       "<table border=\"1\" class=\"dataframe\">\n",
       "  <thead>\n",
       "    <tr style=\"text-align: right;\">\n",
       "      <th></th>\n",
       "      <th>fireplace</th>\n",
       "      <th>private_pool</th>\n",
       "      <th>mls</th>\n",
       "      <th>area</th>\n",
       "      <th>baths</th>\n",
       "      <th>beds</th>\n",
       "      <th>status</th>\n",
       "      <th>type_house</th>\n",
       "      <th>city</th>\n",
       "      <th>year_built</th>\n",
       "      <th>heating</th>\n",
       "      <th>cooling</th>\n",
       "      <th>parking</th>\n",
       "      <th>average_rating</th>\n",
       "      <th>average_distance</th>\n",
       "      <th>killings</th>\n",
       "    </tr>\n",
       "  </thead>\n",
       "  <tbody>\n",
       "    <tr>\n",
       "      <td>0</td>\n",
       "      <td>1</td>\n",
       "      <td>0</td>\n",
       "      <td>1</td>\n",
       "      <td>2900.0</td>\n",
       "      <td>3.5</td>\n",
       "      <td>4.0</td>\n",
       "      <td>0.0</td>\n",
       "      <td>single_family</td>\n",
       "      <td>other</td>\n",
       "      <td>2019.0</td>\n",
       "      <td>1</td>\n",
       "      <td>0</td>\n",
       "      <td>0</td>\n",
       "      <td>3.250000</td>\n",
       "      <td>5.537500</td>\n",
       "      <td>5.8</td>\n",
       "    </tr>\n",
       "    <tr>\n",
       "      <td>1</td>\n",
       "      <td>0</td>\n",
       "      <td>0</td>\n",
       "      <td>1</td>\n",
       "      <td>1947.0</td>\n",
       "      <td>3.0</td>\n",
       "      <td>3.0</td>\n",
       "      <td>0.5</td>\n",
       "      <td>single_family</td>\n",
       "      <td>other</td>\n",
       "      <td>2019.0</td>\n",
       "      <td>0</td>\n",
       "      <td>0</td>\n",
       "      <td>0</td>\n",
       "      <td>2.666667</td>\n",
       "      <td>1.326667</td>\n",
       "      <td>3.1</td>\n",
       "    </tr>\n",
       "    <tr>\n",
       "      <td>2</td>\n",
       "      <td>1</td>\n",
       "      <td>1</td>\n",
       "      <td>1</td>\n",
       "      <td>3000.0</td>\n",
       "      <td>2.0</td>\n",
       "      <td>3.0</td>\n",
       "      <td>0.5</td>\n",
       "      <td>single_family</td>\n",
       "      <td>los angeles</td>\n",
       "      <td>1961.0</td>\n",
       "      <td>1</td>\n",
       "      <td>1</td>\n",
       "      <td>1</td>\n",
       "      <td>6.666667</td>\n",
       "      <td>1.960000</td>\n",
       "      <td>4.6</td>\n",
       "    </tr>\n",
       "    <tr>\n",
       "      <td>4</td>\n",
       "      <td>0</td>\n",
       "      <td>0</td>\n",
       "      <td>1</td>\n",
       "      <td>897.0</td>\n",
       "      <td>2.5</td>\n",
       "      <td>2.0</td>\n",
       "      <td>0.5</td>\n",
       "      <td>townhouse</td>\n",
       "      <td>philadelphia</td>\n",
       "      <td>1920.0</td>\n",
       "      <td>1</td>\n",
       "      <td>1</td>\n",
       "      <td>0</td>\n",
       "      <td>0.000000</td>\n",
       "      <td>0.000000</td>\n",
       "      <td>5.8</td>\n",
       "    </tr>\n",
       "    <tr>\n",
       "      <td>5</td>\n",
       "      <td>0</td>\n",
       "      <td>0</td>\n",
       "      <td>1</td>\n",
       "      <td>3588.0</td>\n",
       "      <td>2.0</td>\n",
       "      <td>3.0</td>\n",
       "      <td>0.0</td>\n",
       "      <td>single_family</td>\n",
       "      <td>other</td>\n",
       "      <td>1970.0</td>\n",
       "      <td>1</td>\n",
       "      <td>1</td>\n",
       "      <td>0</td>\n",
       "      <td>3.166667</td>\n",
       "      <td>6.350000</td>\n",
       "      <td>3.3</td>\n",
       "    </tr>\n",
       "  </tbody>\n",
       "</table>\n",
       "</div>"
      ],
      "text/plain": [
       "   fireplace  private_pool  mls    area  baths  beds  status     type_house  \\\n",
       "0          1             0    1  2900.0    3.5   4.0     0.0  single_family   \n",
       "1          0             0    1  1947.0    3.0   3.0     0.5  single_family   \n",
       "2          1             1    1  3000.0    2.0   3.0     0.5  single_family   \n",
       "4          0             0    1   897.0    2.5   2.0     0.5      townhouse   \n",
       "5          0             0    1  3588.0    2.0   3.0     0.0  single_family   \n",
       "\n",
       "           city  year_built  heating  cooling  parking  average_rating  \\\n",
       "0         other      2019.0        1        0        0        3.250000   \n",
       "1         other      2019.0        0        0        0        2.666667   \n",
       "2   los angeles      1961.0        1        1        1        6.666667   \n",
       "4  philadelphia      1920.0        1        1        0        0.000000   \n",
       "5         other      1970.0        1        1        0        3.166667   \n",
       "\n",
       "   average_distance  killings  \n",
       "0          5.537500       5.8  \n",
       "1          1.326667       3.1  \n",
       "2          1.960000       4.6  \n",
       "4          0.000000       5.8  \n",
       "5          6.350000       3.3  "
      ]
     },
     "execution_count": 79,
     "metadata": {},
     "output_type": "execute_result"
    }
   ],
   "source": [
    "y = df['target']\n",
    "X = df.copy(deep=True)\n",
    "X.drop(['target'], axis = 1, inplace = True)\n",
    "X.head ()"
   ]
  },
  {
   "cell_type": "code",
   "execution_count": 80,
   "metadata": {},
   "outputs": [],
   "source": [
    "X = pd.get_dummies(X)"
   ]
  },
  {
   "cell_type": "markdown",
   "metadata": {},
   "source": [
    "Чтобы превратить категориальный признак в числовой применим функцию get_dummles"
   ]
  },
  {
   "cell_type": "code",
   "execution_count": 81,
   "metadata": {},
   "outputs": [
    {
     "data": {
      "text/plain": [
       "array([[1., 0., 1., ..., 0., 0., 0.],\n",
       "       [0., 0., 1., ..., 0., 0., 0.],\n",
       "       [1., 1., 1., ..., 0., 0., 0.],\n",
       "       ...,\n",
       "       [0., 0., 1., ..., 0., 0., 0.],\n",
       "       [0., 0., 1., ..., 0., 0., 0.],\n",
       "       [0., 0., 0., ..., 0., 0., 0.]])"
      ]
     },
     "execution_count": 81,
     "metadata": {},
     "output_type": "execute_result"
    }
   ],
   "source": [
    "X = pd.get_dummies(X)\n",
    "from sklearn.preprocessing import MinMaxScaler\n",
    "scaler = MinMaxScaler()\n",
    "X = scaler.fit_transform(X)\n",
    "X"
   ]
  },
  {
   "cell_type": "markdown",
   "metadata": {},
   "source": [
    "Разобьём выборку на тренировочную и тестовую"
   ]
  },
  {
   "cell_type": "code",
   "execution_count": 82,
   "metadata": {},
   "outputs": [
    {
     "name": "stdout",
     "output_type": "stream",
     "text": [
      "X_train: (167692, 48)\n",
      "X_test: (41923, 48)\n",
      "y_train: (167692,)\n",
      "y_test: (41923,)\n"
     ]
    }
   ],
   "source": [
    "X_train, X_test, y_train, y_test = train_test_split(X, y, test_size=0.2)\n",
    "print('X_train:', X_train.shape)\n",
    "print('X_test:', X_test.shape)\n",
    "print('y_train:', y_train.shape)\n",
    "print('y_test:', y_test.shape)"
   ]
  },
  {
   "cell_type": "markdown",
   "metadata": {},
   "source": [
    "Реализуем функцию вычисления градиента функции MSE ,шаг градиентного спуска и процедуру оптимизации"
   ]
  },
  {
   "cell_type": "code",
   "execution_count": 75,
   "metadata": {},
   "outputs": [],
   "source": [
    "def print_regression_metrics(y_true, y_pred):\n",
    "    mse = mean_squared_error(y_true, y_pred)\n",
    "    rmse = np.sqrt(mse)\n",
    "    print(f'MSE = {mse:.2f}, RMSE = {rmse:.2f}')\n",
    "    \n",
    "def calc_mse_gradient(X, y, theta):\n",
    "    n = X.shape[0]\n",
    "    grad = 1. / n * X.transpose().dot(X.dot(theta) - y)\n",
    "    \n",
    "    return grad\n",
    "\n",
    "def gradient_step(theta, theta_grad, alpha):\n",
    "    return theta - alpha * theta_grad\n",
    "\n",
    "def optimize(X, y, grad_func, start_theta, alpha, n_iters):\n",
    "    theta = start_theta.copy()\n",
    "    \n",
    "    for i in range(n_iters):\n",
    "        theta_grad = grad_func(X, y, theta)\n",
    "        theta = gradient_step(theta, theta_grad, alpha)\n",
    "    \n",
    "    return theta"
   ]
  },
  {
   "cell_type": "markdown",
   "metadata": {},
   "source": [
    "Добавим фиктивный столбец единиц (bias линейной модели)"
   ]
  },
  {
   "cell_type": "code",
   "execution_count": 83,
   "metadata": {},
   "outputs": [],
   "source": [
    "X = np.hstack([np.ones(X.shape[0])[:, np.newaxis], X])\n",
    "m = X.shape[1]"
   ]
  },
  {
   "cell_type": "markdown",
   "metadata": {},
   "source": [
    "Оптимизируем параметр линейной регрессии theta на всех данных"
   ]
  },
  {
   "cell_type": "code",
   "execution_count": 84,
   "metadata": {
    "scrolled": true
   },
   "outputs": [
    {
     "data": {
      "text/plain": [
       "array([ 4.07932444e+04,  1.75487763e+04,  1.02891725e+04,  3.76822734e+04,\n",
       "        1.70713962e+04,  1.90536749e+04,  2.13516302e+04,  1.71325298e+04,\n",
       "        2.79732946e+04,  3.17476856e+04,  3.12664183e+04,  2.81413094e+04,\n",
       "        2.26264892e+04,  5.30167281e+03,  1.50837274e+04,  1.06193766e+04,\n",
       "        6.88576601e+02,  9.51456197e+02,  1.99809985e+03,  2.47513343e+04,\n",
       "        1.78940086e+03,  5.16283172e+02,  5.57615852e+02,  1.63220614e+03,\n",
       "        5.64925469e+02,  7.66738312e+02,  7.40372983e+01,  9.70381059e+02,\n",
       "       -3.78724229e+01,  8.60347736e+02,  3.32881359e+02,  1.85539249e+03,\n",
       "        1.29320465e+02,  3.42361525e+02,  1.70725014e+02,  6.71081067e+02,\n",
       "        2.32984200e+03,  1.92898556e+03,  4.74178935e+02,  6.31226884e+02,\n",
       "        3.45059901e+03,  1.70173884e+02,  2.80903597e+02,  1.98987485e+04,\n",
       "        1.85981873e+02,  4.06061581e+02,  3.20251898e+02,  9.51944012e+02,\n",
       "        3.84922162e+02])"
      ]
     },
     "execution_count": 84,
     "metadata": {},
     "output_type": "execute_result"
    }
   ],
   "source": [
    "theta = optimize(X, y, calc_mse_gradient, np.ones(m), 0.001, 100)\n",
    "theta"
   ]
  },
  {
   "cell_type": "markdown",
   "metadata": {},
   "source": [
    "Сделаем предсказание, посчитаем значение ошибок"
   ]
  },
  {
   "cell_type": "code",
   "execution_count": 85,
   "metadata": {},
   "outputs": [
    {
     "name": "stdout",
     "output_type": "stream",
     "text": [
      "MSE = 1164438430312.65, RMSE = 1079091.48\n"
     ]
    }
   ],
   "source": [
    "y_pred = X.dot(theta)\n",
    "print_regression_metrics(y, y_pred)"
   ]
  },
  {
   "cell_type": "markdown",
   "metadata": {},
   "source": [
    "Разобьём выборку на train/test, оптимизируем theta, сделаем предсказания и посчитаем ошибки MSE и RMSE:"
   ]
  },
  {
   "cell_type": "code",
   "execution_count": 86,
   "metadata": {},
   "outputs": [
    {
     "name": "stdout",
     "output_type": "stream",
     "text": [
      "MSE = 849656976809.96, RMSE = 921768.40\n"
     ]
    }
   ],
   "source": [
    "X_train, X_test, y_train, y_test = train_test_split(X, y, test_size=0.2)\n",
    "theta = optimize(X_train, y_train, calc_mse_gradient, np.ones(m), 0.01, 5000)\n",
    "y_pred = X_test.dot(theta)\n",
    "\n",
    "print_regression_metrics(y_test, y_pred)"
   ]
  },
  {
   "cell_type": "markdown",
   "metadata": {},
   "source": [
    "## Обучение модели"
   ]
  },
  {
   "cell_type": "markdown",
   "metadata": {},
   "source": [
    "Линейная регрессия"
   ]
  },
  {
   "cell_type": "code",
   "execution_count": 87,
   "metadata": {},
   "outputs": [],
   "source": [
    "from sklearn.linear_model import LinearRegression\n",
    "predictor = LinearRegression()\n",
    "predictor.fit(X_train, y_train)\n",
    "y_pred = predictor.predict(X_test)"
   ]
  },
  {
   "cell_type": "markdown",
   "metadata": {},
   "source": [
    "Валидация модели"
   ]
  },
  {
   "cell_type": "code",
   "execution_count": 88,
   "metadata": {},
   "outputs": [
    {
     "data": {
      "text/plain": [
       "321736.172363619"
      ]
     },
     "execution_count": 88,
     "metadata": {},
     "output_type": "execute_result"
    }
   ],
   "source": [
    "from sklearn.metrics import mean_absolute_error\n",
    "mean_absolute_error(y_test, y_pred)"
   ]
  },
  {
   "cell_type": "markdown",
   "metadata": {},
   "source": [
    "Градиентный бустинг"
   ]
  },
  {
   "cell_type": "code",
   "execution_count": 89,
   "metadata": {},
   "outputs": [],
   "source": [
    "from sklearn.ensemble import GradientBoostingRegressor\n",
    "predictor = GradientBoostingRegressor(n_estimators=1000, learning_rate=0.01)\n",
    "predictor.fit(X_train, y_train)\n",
    "y_pred = predictor.predict(X_test)"
   ]
  },
  {
   "cell_type": "markdown",
   "metadata": {},
   "source": [
    "Валидация модели"
   ]
  },
  {
   "cell_type": "code",
   "execution_count": 90,
   "metadata": {},
   "outputs": [
    {
     "data": {
      "text/plain": [
       "220087.44182408875"
      ]
     },
     "execution_count": 90,
     "metadata": {},
     "output_type": "execute_result"
    }
   ],
   "source": [
    "from sklearn.metrics import mean_absolute_error\n",
    "mean_absolute_error(y_test, y_pred)"
   ]
  },
  {
   "cell_type": "markdown",
   "metadata": {},
   "source": [
    "Проверка модели"
   ]
  },
  {
   "cell_type": "code",
   "execution_count": 91,
   "metadata": {},
   "outputs": [
    {
     "data": {
      "text/plain": [
       "0.6304218085013584"
      ]
     },
     "execution_count": 91,
     "metadata": {},
     "output_type": "execute_result"
    }
   ],
   "source": [
    "from sklearn.metrics import r2_score\n",
    "r2_score(y_test, y_pred)"
   ]
  },
  {
   "cell_type": "markdown",
   "metadata": {},
   "source": [
    "<img src=\"https://avatars.mds.yandex.net/get-pdb/401063/4e0d0cb3-e4d6-49a4-aeab-acd3509cbbb2/orig\">"
   ]
  }
 ],
 "metadata": {
  "kernelspec": {
   "display_name": "Python 3",
   "language": "python",
   "name": "python3"
  },
  "language_info": {
   "codemirror_mode": {
    "name": "ipython",
    "version": 3
   },
   "file_extension": ".py",
   "mimetype": "text/x-python",
   "name": "python",
   "nbconvert_exporter": "python",
   "pygments_lexer": "ipython3",
   "version": "3.7.4"
  }
 },
 "nbformat": 4,
 "nbformat_minor": 2
}
